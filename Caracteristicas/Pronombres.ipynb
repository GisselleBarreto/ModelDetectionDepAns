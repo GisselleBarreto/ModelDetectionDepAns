{
 "cells": [
  {
   "cell_type": "code",
   "execution_count": null,
   "metadata": {
    "colab": {
     "base_uri": "https://localhost:8080/"
    },
    "executionInfo": {
     "elapsed": 25114,
     "status": "ok",
     "timestamp": 1739779180029,
     "user": {
      "displayName": "Gisselle Barreto",
      "userId": "01486531895219062980"
     },
     "user_tz": 180
    },
    "id": "LyzQqazyBOAB",
    "outputId": "70d3cc96-414f-47e1-cf39-22356acea1a5"
   },
   "outputs": [],
   "source": [
    "from google.colab import drive\n",
    "drive.mount('/content/drive')"
   ]
  },
  {
   "cell_type": "code",
   "execution_count": 2,
   "metadata": {
    "executionInfo": {
     "elapsed": 3177,
     "status": "ok",
     "timestamp": 1739779187960,
     "user": {
      "displayName": "Gisselle Barreto",
      "userId": "01486531895219062980"
     },
     "user_tz": 180
    },
    "id": "GgVYSPf_An4o"
   },
   "outputs": [],
   "source": [
    "import pandas as pd\n",
    "import nltk\n",
    "from nltk.tokenize import word_tokenize\n",
    "from nltk.corpus import stopwords\n",
    "import matplotlib.pyplot as plt\n"
   ]
  },
  {
   "cell_type": "code",
   "execution_count": null,
   "metadata": {
    "colab": {
     "base_uri": "https://localhost:8080/"
    },
    "executionInfo": {
     "elapsed": 11837,
     "status": "ok",
     "timestamp": 1739779275024,
     "user": {
      "displayName": "Gisselle Barreto",
      "userId": "01486531895219062980"
     },
     "user_tz": 180
    },
    "id": "gor6C6ZXA8hv",
    "outputId": "d6febe28-1738-4a70-8043-f9708199c02f"
   },
   "outputs": [],
   "source": [
    "nltk.download('punkt')\n",
    "nltk.download('stopwords')\n",
    "nltk.download('punkt_tab')\n",
    "\n",
    "# Lista de pronombres en primera persona\n",
    "first_person_pronouns = [\"yo\", \"me\", \"mi\", \"mío\", \"mía\", \"mí\", \"nosotros\", \"nosotras\", \"nos\", \"nuestro\", \"nuestra\", \"nuestros\", \"nuestras\"]\n",
    "\n",
    "# Función para marcar presencia de pronombres de primera persona en un mensaje\n",
    "def marcar_pronombres(message):\n",
    "    tokens = word_tokenize(message.lower())\n",
    "    presence = {pronoun: 1 if pronoun in tokens else 0 for pronoun in first_person_pronouns}\n",
    "    return pd.Series(presence)\n",
    "\n",
    "# Cargar datos\n",
    "data = pd.read_csv ('linkCSV')\n",
    "\n",
    "\n",
    "# Aplicar la función a cada mensaje\n",
    "pronouns_presence = data['message'].apply(marcar_pronombres)\n",
    "\n",
    "# Concatenar las nuevas columnas al DataFrame original\n",
    "data = pd.concat([data, pronouns_presence], axis=1)\n",
    "\n",
    "# Guardar el DataFrame actualizado en un nuevo archivo CSV\n",
    "data.to_csv('linkCSV', index=False)\n",
    "\n",
    "# Verificar que las nuevas columnas han sido añadidas correctamente\n",
    "print(data.head())\n",
    "\n"
   ]
  },
  {
   "cell_type": "code",
   "execution_count": null,
   "metadata": {
    "id": "xJZFw_XrqNbA"
   },
   "outputs": [],
   "source": [
    "#intento en FreeLing\n",
    "\n",
    "import pandas as pd\n",
    "import subprocess\n",
    "import os\n",
    "\n",
    "# Lista de pronombres en primera persona\n",
    "first_person_pronouns = [\"yo\", \"me\", \"mi\", \"mío\", \"mía\", \"mí\", \"nosotros\", \"nosotras\", \"nos\", \"nuestro\", \"nuestra\", \"nuestros\", \"nuestras\"]\n",
    "\n",
    "# Función para usar FreeLing y contar pronombres de primera persona en un mensaje\n",
    "def contar_pronombres_freeling(mensaje):\n",
    "    # Guardar el mensaje en un archivo temporal\n",
    "    with open(\"temp.txt\", \"w\", encoding=\"utf-8\") as file:\n",
    "        file.write(mensaje)\n",
    "\n",
    "    # Ejecutar FreeLing en el archivo temporal\n",
    "    result = subprocess.run(['analyze', '-f', 'es.cfg'], input=mensaje, text=True, capture_output=True)\n",
    "\n",
    "    # Leer el resultado\n",
    "    output = result.stdout\n",
    "\n",
    "    # Procesar el resultado para contar los pronombres\n",
    "    tokens = [line.split()[0] for line in output.split('\\n') if line and not line.startswith('#')]\n",
    "    pronombres_encontrados = [palabra for palabra in tokens if palabra.lower() in first_person_pronouns]\n",
    "    return len(pronombres_encontrados), ', '.join(pronombres_encontrados)\n",
    "\n",
    "# Cargar datos\n",
    "data = pd.read_csv('linkCSV')\n",
    "\n",
    "# Aplicar la función a cada mensaje\n",
    "data[['Total_pronombres', 'Pronombres_encontrados']] = data['message'].apply(lambda x: pd.Series(contar_pronombres_freeling(x)))\n",
    "\n",
    "# Guardar el DataFrame actualizado en un nuevo archivo CSV\n",
    "data.to_csv('linkCSV', index=False)\n",
    "\n",
    "# Verificar que las nuevas columnas han sido añadidas correctamente\n",
    "print(data.head())\n"
   ]
  }
 ],
 "metadata": {
  "colab": {
   "provenance": []
  },
  "kernelspec": {
   "display_name": "Python 3",
   "name": "python3"
  },
  "language_info": {
   "name": "python"
  }
 },
 "nbformat": 4,
 "nbformat_minor": 0
}
