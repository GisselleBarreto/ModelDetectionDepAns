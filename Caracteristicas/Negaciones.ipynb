{
 "cells": [
  {
   "cell_type": "code",
   "execution_count": null,
   "metadata": {
    "colab": {
     "base_uri": "https://localhost:8080/",
     "height": 400
    },
    "executionInfo": {
     "elapsed": 11577,
     "status": "error",
     "timestamp": 1739780888182,
     "user": {
      "displayName": "Gisselle Barreto",
      "userId": "01486531895219062980"
     },
     "user_tz": 180
    },
    "id": "t8y7fRUrwu7-",
    "outputId": "037a5d80-60fc-40fa-ef46-d7e7dcd372c5"
   },
   "outputs": [],
   "source": [
    "import nltk\n",
    "import pandas as pd\n",
    "from nltk.tokenize import word_tokenize\n",
    "\n",
    "# Descargar los recursos necesarios\n",
    "nltk.download('punkt')\n",
    "\n",
    "# Lista de palabras de negación comunes\n",
    "negation_words = [\"no\", \"nunca\", \"nada\", \"ninguno\", \"nadie\", \"jamás\", \"sin\", \"tampoco\"]\n",
    "\n",
    "# Función para contar la cantidad de negaciones en un mensaje\n",
    "def contar_negaciones(message):\n",
    "    tokens = word_tokenize(message.lower())  # Tokenizar el mensaje y convertir a minúsculas\n",
    "    negation_count = sum(1 for token in tokens if token in negation_words)  # Contar negaciones\n",
    "    return negation_count\n",
    "\n",
    "# Cargar datos\n",
    "data = pd.read_csv('linkCSV')\n",
    "\n",
    "# Aplicar la función a cada mensaje y almacenar el resultado en una nueva columna \"negaciones\"\n",
    "data['negaciones'] = data['message'].apply(contar_negaciones)\n",
    "\n",
    "# Guardar el DataFrame actualizado en un nuevo archivo CSV\n",
    "data.to_csv('linkCSV', index=False)\n",
    "\n",
    "# Verificar que la nueva columna ha sido añadida correctamente\n",
    "print(data.head())\n"
   ]
  },
  {
   "cell_type": "code",
   "execution_count": null,
   "metadata": {
    "colab": {
     "base_uri": "https://localhost:8080/"
    },
    "executionInfo": {
     "elapsed": 17253,
     "status": "ok",
     "timestamp": 1739780915817,
     "user": {
      "displayName": "Gisselle Barreto",
      "userId": "01486531895219062980"
     },
     "user_tz": 180
    },
    "id": "IyZ6VOq21BiA",
    "outputId": "ebe59b0f-1b4a-4b77-d824-72f60263bf2d"
   },
   "outputs": [],
   "source": [
    "from google.colab import drive\n",
    "drive.mount('/content/drive')"
   ]
  },
  {
   "cell_type": "code",
   "execution_count": null,
   "metadata": {
    "colab": {
     "base_uri": "https://localhost:8080/"
    },
    "executionInfo": {
     "elapsed": 3478,
     "status": "ok",
     "timestamp": 1739780962404,
     "user": {
      "displayName": "Gisselle Barreto",
      "userId": "01486531895219062980"
     },
     "user_tz": 180
    },
    "id": "odk2m_z104i0",
    "outputId": "4e39901f-d97d-4c6e-b5d3-a86aaec3b64d"
   },
   "outputs": [],
   "source": [
    "import nltk\n",
    "import pandas as pd\n",
    "from nltk.tokenize import word_tokenize\n",
    "\n",
    "# Download the necessary resources, including punkt_tab\n",
    "nltk.download('punkt_tab')  # This line was changed to download 'punkt_tab'\n",
    "\n",
    "\n",
    "# Descargar los recursos necesarios\n",
    "nltk.download('punkt')\n",
    "\n",
    "# Lista de palabras de negación comunes\n",
    "negation_words = [\"no\", \"nunca\", \"nada\", \"ninguno\", \"nadie\", \"jamás\", \"sin\", \"tampoco\"]\n",
    "\n",
    "# Función para contar la cantidad de negaciones en un mensaje\n",
    "def contar_negaciones(message):\n",
    "    tokens = word_tokenize(message.lower())  # Tokenizar el mensaje y convertir a minúsculas\n",
    "    negation_count = sum(1 for token in tokens if token in negation_words)  # Contar negaciones\n",
    "    return negation_count\n",
    "\n",
    "# Cargar datos\n",
    "data = pd.read_csv('linkCSV')\n",
    "\n",
    "# Aplicar la función a cada mensaje y almacenar el resultado en una nueva columna \"negaciones\"\n",
    "data['negaciones'] = data['message'].apply(contar_negaciones)\n",
    "\n",
    "# Guardar el DataFrame actualizado en un nuevo archivo CSV\n",
    "data.to_csv('linkCSV', index=False)\n",
    "\n",
    "# Verificar que la nueva columna ha sido añadida correctamente\n",
    "print(data.head())"
   ]
  }
 ],
 "metadata": {
  "colab": {
   "provenance": []
  },
  "kernelspec": {
   "display_name": "Python 3",
   "name": "python3"
  },
  "language_info": {
   "name": "python"
  }
 },
 "nbformat": 4,
 "nbformat_minor": 0
}
