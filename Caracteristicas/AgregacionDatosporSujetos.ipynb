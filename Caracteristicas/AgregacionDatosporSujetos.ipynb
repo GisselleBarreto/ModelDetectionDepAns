{
 "cells": [
  {
   "cell_type": "code",
   "execution_count": null,
   "metadata": {
    "colab": {
     "base_uri": "https://localhost:8080/"
    },
    "executionInfo": {
     "elapsed": 45701,
     "status": "ok",
     "timestamp": 1739836736514,
     "user": {
      "displayName": "Gisselle Barreto",
      "userId": "01486531895219062980"
     },
     "user_tz": 180
    },
    "id": "LyzQqazyBOAB",
    "outputId": "0227ae0a-4da0-46d1-af13-1c414ea8fb7d"
   },
   "outputs": [],
   "source": [
    "from google.colab import drive\n",
    "drive.mount('/content/drive')"
   ]
  },
  {
   "cell_type": "code",
   "execution_count": null,
   "metadata": {
    "executionInfo": {
     "elapsed": 1545,
     "status": "ok",
     "timestamp": 1739837159351,
     "user": {
      "displayName": "Gisselle Barreto",
      "userId": "01486531895219062980"
     },
     "user_tz": 180
    },
    "id": "wptZzhbzSXNQ"
   },
   "outputs": [],
   "source": [
    "import pandas as pd\n",
    "\n",
    "# Cargar datos\n",
    "df = pd.read_csv('linkCSV')\n",
    "\n"
   ]
  },
  {
   "cell_type": "code",
   "execution_count": null,
   "metadata": {
    "colab": {
     "base_uri": "https://localhost:8080/"
    },
    "executionInfo": {
     "elapsed": 1032,
     "status": "ok",
     "timestamp": 1739838253988,
     "user": {
      "displayName": "Gisselle Barreto",
      "userId": "01486531895219062980"
     },
     "user_tz": 180
    },
    "id": "G5CwIG-vwn4B",
    "outputId": "de7ace4d-85a2-498e-d690-9c17cfe242bc"
   },
   "outputs": [],
   "source": [
    "# Especificar las columnas para promediar y las columnas para sumar\n",
    "columnas_promedio = ['label','toxicity', 'sentiment', 'POS', 'NEG', 'NEU', 'alegría', 'tristeza', 'enojo', 'miedo', 'sorpresa', 'disgusto']  # Ajusta estos nombres según tu archivo\n",
    "columnas_suma = ['yo', 'me', 'mi', 'mío', 'mía', 'mí', 'nosotros', 'nosotras', 'nos', 'nuestro', 'nuestra', 'nuestros', 'nuestras', 'Medicamento_depresion', 'Medicamento_ansiedad','num_palabras_largas','num_palabras_mayusculas','num_signos_puntuacion','num_palabras_primera_mayuscula','negaciones']  # Ajusta estos nombres según tu archivo\n",
    "columnas_moda = ['sentiment', 'hora', 'mes', 'horario_categoria', 'estacion_categoria', 'Med_depresion', 'Med_ansiedad']\n",
    "\n",
    "# Definir una función para calcular la moda\n",
    "def calcular_moda(series):\n",
    "    return series.mode().iloc[0] if not series.mode().empty else None\n",
    "\n",
    "# Agrupar por usuario y aplicar las funciones de agregación\n",
    "df_agrupado = df.groupby('subject_id').agg(\n",
    "    {col: 'mean' for col in columnas_promedio} |\n",
    "    {col: 'sum' for col in columnas_suma} |\n",
    "    {col: calcular_moda for col in columnas_moda}\n",
    ").reset_index()\n",
    "\n",
    "# Mostrar los resultados\n",
    "print(df_agrupado)\n",
    "\n",
    "# Opcional: guardar el resultado en un nuevo archivo CSV\n",
    "df_agrupado.to_csv('linkCSV', index=False)\n",
    "\n",
    "\n"
   ]
  }
 ],
 "metadata": {
  "colab": {
   "provenance": []
  },
  "kernelspec": {
   "display_name": "Python 3",
   "name": "python3"
  },
  "language_info": {
   "name": "python"
  }
 },
 "nbformat": 4,
 "nbformat_minor": 0
}
