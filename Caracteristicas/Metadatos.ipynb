{
 "cells": [
  {
   "cell_type": "code",
   "execution_count": null,
   "metadata": {
    "colab": {
     "base_uri": "https://localhost:8080/"
    },
    "executionInfo": {
     "elapsed": 20308,
     "status": "ok",
     "timestamp": 1739779344240,
     "user": {
      "displayName": "Gisselle Barreto",
      "userId": "01486531895219062980"
     },
     "user_tz": 180
    },
    "id": "LyzQqazyBOAB",
    "outputId": "9971d701-adde-4a52-dbb9-db8e83df2696"
   },
   "outputs": [],
   "source": [
    "from google.colab import drive\n",
    "drive.mount('/content/drive')"
   ]
  },
  {
   "cell_type": "code",
   "execution_count": null,
   "metadata": {
    "executionInfo": {
     "elapsed": 2142,
     "status": "ok",
     "timestamp": 1739779363163,
     "user": {
      "displayName": "Gisselle Barreto",
      "userId": "01486531895219062980"
     },
     "user_tz": 180
    },
    "id": "wptZzhbzSXNQ"
   },
   "outputs": [],
   "source": [
    "import pandas as pd\n",
    "import matplotlib.pyplot as plt\n",
    "\n",
    "# Cargar datos\n",
    "data = pd.read_csv('linkCSV')\n"
   ]
  },
  {
   "cell_type": "code",
   "execution_count": null,
   "metadata": {
    "executionInfo": {
     "elapsed": 947,
     "status": "ok",
     "timestamp": 1739779368339,
     "user": {
      "displayName": "Gisselle Barreto",
      "userId": "01486531895219062980"
     },
     "user_tz": 180
    },
    "id": "LGc3TyP-SpjB"
   },
   "outputs": [],
   "source": [
    "# Asegúrate de que la columna de fecha esté en formato datetime\n",
    "data['date'] = pd.to_datetime(data['date'], format='%Y-%m-%d %H:%M:%S', errors='coerce')\n",
    "\n",
    "\n",
    "# Extraer horarios y meses\n",
    "data['hora'] = data['date'].dt.hour\n",
    "data['mes'] = data['date'].dt.month\n",
    "\n",
    "# Definir una función para categorizar horarios\n",
    "def categorizar_horario(hora):\n",
    "    if 0 <= hora < 5:\n",
    "        return 'Madrugada'\n",
    "    elif 5 <= hora < 11:\n",
    "        return 'Mañana'\n",
    "    elif 11 <= hora < 21:\n",
    "        return 'Tarde'\n",
    "    elif 21 <= hora < 24:\n",
    "        return 'Noche'\n",
    "\n",
    "# Aplicar la función para crear una nueva columna 'horario_categoria'\n",
    "data['horario_categoria'] = data['hora'].apply(categorizar_horario)\n",
    "\n",
    "# Definir una función para categorizar estaciones\n",
    "def categorizar_estacion(mes):\n",
    "    if 1 <= mes < 4:\n",
    "        return 'Primera estación'\n",
    "    elif 4 <= mes < 7:\n",
    "        return 'Segunda estación'\n",
    "    elif 7 <= mes < 10:\n",
    "        return 'Tercera estación'\n",
    "    elif 10 <= mes <= 12:\n",
    "        return 'Cuarta estación'\n",
    "\n",
    "# Aplicar la función para crear una nueva columna 'estacion_categoria'\n",
    "data['estacion_categoria'] = data['mes'].apply(categorizar_estacion)\n",
    "\n",
    "# Guardar el DataFrame actualizado en un nuevo archivo CSV\n",
    "data.to_csv('linkCSV', index=False)\n",
    "\n",
    "\n"
   ]
  }
 ],
 "metadata": {
  "colab": {
   "provenance": []
  },
  "kernelspec": {
   "display_name": "Python 3",
   "name": "python3"
  },
  "language_info": {
   "name": "python"
  }
 },
 "nbformat": 4,
 "nbformat_minor": 0
}
