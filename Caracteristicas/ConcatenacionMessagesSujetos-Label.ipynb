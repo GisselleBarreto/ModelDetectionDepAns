{
 "cells": [
  {
   "cell_type": "code",
   "execution_count": null,
   "metadata": {
    "colab": {
     "base_uri": "https://localhost:8080/"
    },
    "executionInfo": {
     "elapsed": 19139,
     "status": "ok",
     "timestamp": 1739838654224,
     "user": {
      "displayName": "Gisselle Barreto",
      "userId": "01486531895219062980"
     },
     "user_tz": 180
    },
    "id": "LyzQqazyBOAB",
    "outputId": "6a4e7049-2bac-48d7-a9bc-122f5fa2c833"
   },
   "outputs": [],
   "source": [
    "from google.colab import drive\n",
    "drive.mount('/content/drive')"
   ]
  },
  {
   "cell_type": "code",
   "execution_count": null,
   "metadata": {
    "executionInfo": {
     "elapsed": 1618,
     "status": "ok",
     "timestamp": 1739838724850,
     "user": {
      "displayName": "Gisselle Barreto",
      "userId": "01486531895219062980"
     },
     "user_tz": 180
    },
    "id": "TG4Pj0ZoJss7"
   },
   "outputs": [],
   "source": [
    "#Concatenacion de mensajes por usuario con sus labels\n",
    "\n",
    "import pandas as pd\n",
    "\n",
    "# Carga el archivo CSV\n",
    "df = pd.read_csv(\"linkCSV\")\n",
    "\n",
    "# Agrupa los mensajes por 'subject_id' y realiza las agregaciones necesarias\n",
    "df_grouped = df.groupby('subject_id').agg({\n",
    "    'message': ' '.join,       # Concatenar los mensajes en una sola cadena\n",
    "    'label': 'first'           # Conservar el primer valor de la columna 'label'\n",
    "}).reset_index()\n",
    "\n",
    "# Guarda el archivo resultante en un nuevo archivo CSV\n",
    "df_grouped.to_csv(\"archivo_concatenado.csv\", index=False)\n",
    "\n",
    "# Muestra el resultado\n",
    "df_grouped.head()\n",
    "\n",
    "\n",
    "\n",
    "# Guarda el archivo resultante en un nuevo archivo CSV\n",
    "df_grouped.to_csv(\"linkCSV\", index=False)"
   ]
  }
 ],
 "metadata": {
  "colab": {
   "provenance": []
  },
  "kernelspec": {
   "display_name": "Python 3",
   "name": "python3"
  },
  "language_info": {
   "name": "python"
  }
 },
 "nbformat": 4,
 "nbformat_minor": 0
}
