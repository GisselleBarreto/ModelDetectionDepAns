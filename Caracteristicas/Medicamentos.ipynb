{
 "cells": [
  {
   "cell_type": "code",
   "execution_count": null,
   "metadata": {
    "colab": {
     "base_uri": "https://localhost:8080/"
    },
    "executionInfo": {
     "elapsed": 7338,
     "status": "ok",
     "timestamp": 1739779487259,
     "user": {
      "displayName": "Gisselle Barreto",
      "userId": "01486531895219062980"
     },
     "user_tz": 180
    },
    "id": "q0FZ8XprMZHA",
    "outputId": "f2e9088e-3465-45aa-ff40-12f30b443222"
   },
   "outputs": [],
   "source": [
    "!pip install pandas nltk\n"
   ]
  },
  {
   "cell_type": "code",
   "execution_count": null,
   "metadata": {
    "colab": {
     "base_uri": "https://localhost:8080/"
    },
    "executionInfo": {
     "elapsed": 5349,
     "status": "ok",
     "timestamp": 1739779532281,
     "user": {
      "displayName": "Gisselle Barreto",
      "userId": "01486531895219062980"
     },
     "user_tz": 180
    },
    "id": "YRF4pHogMkuY",
    "outputId": "83df7a80-10d8-4b13-ec13-29d82d7df23d"
   },
   "outputs": [],
   "source": [
    "import pandas as pd\n",
    "import nltk\n",
    "from nltk.tokenize import word_tokenize\n",
    "\n",
    "# Descargar recursos de nltk necesarios\n",
    "nltk.download('punkt')\n"
   ]
  },
  {
   "cell_type": "code",
   "execution_count": null,
   "metadata": {
    "colab": {
     "base_uri": "https://localhost:8080/"
    },
    "executionInfo": {
     "elapsed": 22466,
     "status": "ok",
     "timestamp": 1739779567727,
     "user": {
      "displayName": "Gisselle Barreto",
      "userId": "01486531895219062980"
     },
     "user_tz": 180
    },
    "id": "UAbVnF89MoZT",
    "outputId": "fdeb0412-a436-4135-b7bb-00e38c3af29b"
   },
   "outputs": [],
   "source": [
    "from google.colab import drive\n",
    "drive.mount('/content/drive')\n"
   ]
  },
  {
   "cell_type": "code",
   "execution_count": null,
   "metadata": {
    "executionInfo": {
     "elapsed": 5417,
     "status": "ok",
     "timestamp": 1739779577672,
     "user": {
      "displayName": "Gisselle Barreto",
      "userId": "01486531895219062980"
     },
     "user_tz": 180
    },
    "id": "ZR_LSF3BMryv"
   },
   "outputs": [],
   "source": [
    "# Ruta al archivo CSV con los mensajes\n",
    "messages_file_path = 'linkCSV'\n",
    "\n",
    "\n",
    "\n",
    "\n",
    "# Ruta al archivo CSV con los nombres de los medicamentos\n",
    "drugs_file_path = 'linkCSV'  # Cambia esto a la ruta real\n",
    "drugs_anxiety_file_path = 'linkCSV'  # Cambia esto a la ruta real\n",
    "\n",
    "\n",
    "# Leer los archivos CSV\n",
    "df_messages = pd.read_csv(messages_file_path)\n",
    "df_drugs_depress = pd.read_csv(drugs_file_path)\n",
    "\n",
    "#Anxiety\n",
    "df_drugs_anxiety = pd.read_csv(drugs_anxiety_file_path)\n",
    "\n"
   ]
  },
  {
   "cell_type": "code",
   "execution_count": 5,
   "metadata": {
    "executionInfo": {
     "elapsed": 376,
     "status": "ok",
     "timestamp": 1739779581248,
     "user": {
      "displayName": "Gisselle Barreto",
      "userId": "01486531895219062980"
     },
     "user_tz": 180
    },
    "id": "5mmbAErhPpRd"
   },
   "outputs": [],
   "source": [
    "# def find_medications(text, drug_list):\n",
    "#     tokens = word_tokenize(text.lower())\n",
    "#     drugs_found = [drug for drug in drug_list if drug.lower() in tokens]\n",
    "#     print (drugs_found)\n",
    "#     return ', '.join(drugs_found)\n",
    "\n",
    "def find_medications(text, drug_list):\n",
    "    text_lower = text.lower()\n",
    "    tokens = word_tokenize(text_lower)\n",
    "    drugs_found = [drug for drug in drug_list if drug.lower() in tokens]\n",
    "    print (drugs_found)\n",
    "    return ', '.join(drugs_found)\n",
    "\n"
   ]
  },
  {
   "cell_type": "code",
   "execution_count": null,
   "metadata": {
    "colab": {
     "base_uri": "https://localhost:8080/"
    },
    "collapsed": true,
    "executionInfo": {
     "elapsed": 16370,
     "status": "ok",
     "timestamp": 1739779644302,
     "user": {
      "displayName": "Gisselle Barreto",
      "userId": "01486531895219062980"
     },
     "user_tz": 180
    },
    "id": "NfDerNKDPuI5",
    "outputId": "373e4c9d-3acc-49d7-f850-eab5d6186938"
   },
   "outputs": [],
   "source": [
    "import nltk\n",
    "\n",
    "# Download the necessary NLTK resource\n",
    "nltk.download('punkt_tab')\n",
    "\n",
    "# Convertir la columna \"Drug Name\" en una lista de medicamentos\n",
    "drug_list = df_drugs_depress['Drug Name'].tolist()\n",
    "\n",
    "# Buscar medicamentos en los mensajes\n",
    "df_messages['Med_depresion'] = df_messages['message'].apply(lambda x: find_medications(x, drug_list))\n",
    "\n",
    "# Guardar el DataFrame resultante en el mismo archivo CSV\n",
    "df_messages.to_csv(messages_file_path, index=False)\n",
    "\n",
    "#---------------------------------------------------------------------\n",
    "\n",
    "# Convertir la columna \"Drug Name\" en una lista de medicamentos\n",
    "drug_list = df_drugs_anxiety['Drug Name'].tolist()\n",
    "\n",
    "# Buscar medicamentos en los mensajes\n",
    "df_messages['Med_ansiedad'] = df_messages['message'].apply(lambda x: find_medications(x, drug_list))\n",
    "\n",
    "# Guardar el DataFrame resultante en el mismo archivo CSV\n",
    "df_messages.to_csv(messages_file_path, index=False)\n",
    "\n",
    "\n"
   ]
  },
  {
   "cell_type": "code",
   "execution_count": null,
   "metadata": {
    "colab": {
     "base_uri": "https://localhost:8080/"
    },
    "executionInfo": {
     "elapsed": 9122,
     "status": "ok",
     "timestamp": 1739779671423,
     "user": {
      "displayName": "Gisselle Barreto",
      "userId": "01486531895219062980"
     },
     "user_tz": 180
    },
    "id": "MlxRhpLd3aZK",
    "outputId": "562eb1b7-dfa0-4078-d6bb-7bf689933f09"
   },
   "outputs": [],
   "source": [
    "!pip install pandas nltk\n",
    "\n",
    "import pandas as pd\n",
    "from google.colab import drive\n",
    "import nltk\n",
    "from nltk.tokenize import word_tokenize\n",
    "\n",
    "# Descargar recursos de nltk necesarios\n",
    "nltk.download('punkt')\n",
    "drive.mount('/content/drive')\n",
    "\n",
    "# Ruta al archivo CSV con los mensajes\n",
    "messages_file_path = 'linkCSV'\n",
    "\n",
    "\n",
    "# Ruta al archivo CSV con los nombres de los medicamentos\n",
    "drugs_file_path = 'linkCSV'  # Cambia esto a la ruta real\n",
    "drugs_anxiety_file_path = 'linkCSV'  # Cambia esto a la ruta real\n",
    "\n",
    "# Leer los archivos CSV\n",
    "df_messages = pd.read_csv(messages_file_path)\n",
    "df_drugs_depress = pd.read_csv(drugs_file_path)\n",
    "\n",
    "# Anxiety\n",
    "df_drugs_anxiety = pd.read_csv(drugs_anxiety_file_path)\n",
    "\n",
    "def count_medications(text, drug_list):\n",
    "    \"\"\"\n",
    "    Cuenta cuántos medicamentos de la lista aparecen en el texto.\n",
    "    \"\"\"\n",
    "    text_lower = text.lower()\n",
    "    tokens = word_tokenize(text_lower)\n",
    "    # Crear un conjunto de tokens para mejorar el rendimiento\n",
    "    token_set = set(tokens)\n",
    "    # Contar los medicamentos encontrados en el conjunto de tokens\n",
    "    count = sum(1 for drug in drug_list if drug.lower() in token_set)\n",
    "    return count\n",
    "\n",
    "# Convertir la columna \"Drug Name\" en una lista de medicamentos de depresión\n",
    "drug_list_depress = df_drugs_depress['Drug Name'].tolist()\n",
    "\n",
    "# Buscar medicamentos de depresión en los mensajes y sumar\n",
    "df_messages['Medicamento_depresion'] = df_messages['message'].apply(lambda x: count_medications(x, drug_list_depress))\n",
    "\n",
    "# Convertir la columna \"Drug Name\" en una lista de medicamentos de ansiedad\n",
    "drug_list_anxiety = df_drugs_anxiety['Drug Name'].tolist()\n",
    "\n",
    "# Buscar medicamentos de ansiedad en los mensajes y sumar\n",
    "df_messages['Medicamento_ansiedad'] = df_messages['message'].apply(lambda x: count_medications(x, drug_list_anxiety))\n",
    "\n",
    "# Guardar el DataFrame resultante en un nuevo archivo CSV\n",
    "df_messages.to_csv('linkCSV', index=False)\n",
    "\n"
   ]
  },
  {
   "cell_type": "code",
   "execution_count": null,
   "metadata": {
    "colab": {
     "base_uri": "https://localhost:8080/"
    },
    "executionInfo": {
     "elapsed": 12185,
     "status": "ok",
     "timestamp": 1739779688878,
     "user": {
      "displayName": "Gisselle Barreto",
      "userId": "01486531895219062980"
     },
     "user_tz": 180
    },
    "id": "CGGm_pqblxO_",
    "outputId": "b81b218f-0560-42c3-f906-178bfd77294b"
   },
   "outputs": [],
   "source": [
    "#Agregar los medicamentos en columnas y verificar la existencia y agregar 0 o 1\n",
    "import pandas as pd\n",
    "from google.colab import drive\n",
    "\n",
    "# Montar Google Drive\n",
    "drive.mount('/content/drive')\n",
    "\n",
    "# Ruta al archivo CSV con los datos\n",
    "file_path = 'linkCSV'  # Cambia esto a la ruta real de tu archivo CSV\n",
    "\n",
    "# Leer el archivo CSV\n",
    "df = pd.read_csv(file_path)\n",
    "\n",
    "# Función para expandir los medicamentos en nuevas columnas\n",
    "def expand_medications(df, med_columns):\n",
    "    # Obtener una lista única de todos los medicamentos mencionados\n",
    "    all_meds = set()\n",
    "    for col in med_columns:\n",
    "        df[col].dropna().apply(lambda x: all_meds.update(x.split(',')))\n",
    "\n",
    "    # Crear una columna para cada medicamento\n",
    "    for med in all_meds:\n",
    "        df[med.strip()] = df[med_columns].apply(lambda x: 1 if med.strip() in ','.join(x.dropna()) else 0, axis=1)\n",
    "\n",
    "    return df\n",
    "\n",
    "# Columnas con los nombres de los medicamentos\n",
    "med_columns = ['Med_depresion', 'Med_ansiedad']\n",
    "\n",
    "# Expander las columnas\n",
    "df_expanded = expand_medications(df, med_columns)\n",
    "\n",
    "# Guardar el DataFrame resultante en un nuevo archivo CSV\n",
    "output_file_path = 'linkCSV'\n",
    "df_expanded.to_csv(output_file_path, index=False)\n",
    "\n",
    "print(f\"Archivo procesado guardado en: {output_file_path}\")\n",
    "\n"
   ]
  },
  {
   "cell_type": "code",
   "execution_count": null,
   "metadata": {
    "colab": {
     "base_uri": "https://localhost:8080/"
    },
    "executionInfo": {
     "elapsed": 1021,
     "status": "ok",
     "timestamp": 1739779692674,
     "user": {
      "displayName": "Gisselle Barreto",
      "userId": "01486531895219062980"
     },
     "user_tz": 180
    },
    "id": "efHGdnW1Cgcd",
    "outputId": "a3bbb541-2ea8-4418-d66b-c554b538da91"
   },
   "outputs": [],
   "source": [
    "#Agregar columna de depresion y ansiedad y que cuente la cantidad de medicamentos mencionados por el usuario\n",
    "\n",
    "import pandas as pd\n",
    "\n",
    "# Leer el archivo CSV\n",
    "df = pd.read_csv('linkCSV')\n",
    "\n",
    "# Función para contar los medicamentos únicos mencionados en cada columna\n",
    "def count_unique_meds(med_list):\n",
    "    if pd.isna(med_list) or med_list == '':\n",
    "        return 0\n",
    "    meds = set(med.strip() for med in med_list.split(','))\n",
    "    return len(meds)\n",
    "\n",
    "# Crear las nuevas columnas MedDep y MedAns con los conteos de medicamentos únicos\n",
    "df['MedDep'] = df['Med_depresion'].apply(count_unique_meds)\n",
    "df['MedAns'] = df['Med_ansiedad'].apply(count_unique_meds)\n",
    "\n",
    "# Guardar el DataFrame resultante en un nuevo archivo CSV\n",
    "output_file_path = 'linkCSV'\n",
    "df.to_csv(output_file_path, index=False)\n",
    "\n",
    "print(f\"Archivo procesado guardado en: {output_file_path}\")\n",
    "\n",
    "\n",
    "\n",
    "\n",
    "\n",
    "\n",
    "\n"
   ]
  }
 ],
 "metadata": {
  "colab": {
   "provenance": []
  },
  "kernelspec": {
   "display_name": "Python 3",
   "name": "python3"
  },
  "language_info": {
   "name": "python"
  }
 },
 "nbformat": 4,
 "nbformat_minor": 0
}
