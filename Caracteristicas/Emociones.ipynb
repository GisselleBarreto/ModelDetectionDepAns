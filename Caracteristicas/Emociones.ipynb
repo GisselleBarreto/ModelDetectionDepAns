{
 "cells": [
  {
   "cell_type": "code",
   "execution_count": null,
   "metadata": {
    "colab": {
     "base_uri": "https://localhost:8080/"
    },
    "executionInfo": {
     "elapsed": 22674,
     "status": "ok",
     "timestamp": 1739774677739,
     "user": {
      "displayName": "Gisselle Barreto",
      "userId": "01486531895219062980"
     },
     "user_tz": 180
    },
    "id": "LyzQqazyBOAB",
    "outputId": "38601a65-2840-4524-e0ce-61a96b2d00ad"
   },
   "outputs": [],
   "source": [
    "from google.colab import drive\n",
    "drive.mount('/content/drive')"
   ]
  },
  {
   "cell_type": "code",
   "execution_count": null,
   "metadata": {
    "colab": {
     "base_uri": "https://localhost:8080/"
    },
    "collapsed": true,
    "executionInfo": {
     "elapsed": 111845,
     "status": "ok",
     "timestamp": 1739774796357,
     "user": {
      "displayName": "Gisselle Barreto",
      "userId": "01486531895219062980"
     },
     "user_tz": 180
    },
    "id": "wptZzhbzSXNQ",
    "outputId": "d4ddec71-db33-4bfa-d1f3-8280a273cedb"
   },
   "outputs": [],
   "source": [
    "!pip install pysentimiento\n",
    "\n",
    "import pandas as pd\n",
    "from pysentimiento import create_analyzer\n",
    "\n",
    "# Cargar datos\n",
    "data = pd.read_csv ('linkCSV')\n",
    "\n"
   ]
  },
  {
   "cell_type": "code",
   "execution_count": null,
   "metadata": {
    "colab": {
     "base_uri": "https://localhost:8080/"
    },
    "executionInfo": {
     "elapsed": 1931804,
     "status": "ok",
     "timestamp": 1739778896833,
     "user": {
      "displayName": "Gisselle Barreto",
      "userId": "01486531895219062980"
     },
     "user_tz": 180
    },
    "id": "siNDZBeFSrZ8",
    "outputId": "dfe3412a-680c-435c-e773-d0957fe60eaf"
   },
   "outputs": [],
   "source": [
    "# Crear el analizador de emociones\n",
    "analyzer = create_analyzer(task=\"emotion\", lang=\"es\")\n",
    "\n",
    "# Definir una función para obtener las emociones de un mensaje y traducir los nombres de las emociones al español\n",
    "def obtener_emociones(texto):\n",
    "    emociones = analyzer.predict(texto).probas\n",
    "    emociones_es = {\n",
    "        \"alegría\": emociones.get(\"joy\", 0),\n",
    "        \"tristeza\": emociones.get(\"sadness\", 0),\n",
    "        \"enojo\": emociones.get(\"anger\", 0),\n",
    "        \"miedo\": emociones.get(\"fear\", 0),\n",
    "        \"sorpresa\": emociones.get(\"surprise\", 0),\n",
    "        \"disgusto\": emociones.get(\"disgust\", 0)\n",
    "    }\n",
    "    return emociones_es\n",
    "\n",
    "# Aplicar la función a cada mensaje y obtener las emociones\n",
    "emociones_df = data['message'].apply(lambda x: pd.Series(obtener_emociones(x)))\n",
    "\n",
    "# Concatenar las nuevas columnas de emociones con el DataFrame original\n",
    "data = pd.concat([data, emociones_df], axis=1)\n",
    "\n",
    "# Guardar el DataFrame actualizado en un nuevo archivo CSV\n",
    "data.to_csv('linkCSV', index=False)\n",
    "\n",
    "\n",
    "# Verificar que las nuevas columnas han sido añadidas correctamente\n",
    "print(data.head())\n",
    "\n",
    "\n"
   ]
  }
 ],
 "metadata": {
  "colab": {
   "provenance": []
  },
  "kernelspec": {
   "display_name": "Python 3",
   "name": "python3"
  },
  "language_info": {
   "name": "python"
  }
 },
 "nbformat": 4,
 "nbformat_minor": 0
}
