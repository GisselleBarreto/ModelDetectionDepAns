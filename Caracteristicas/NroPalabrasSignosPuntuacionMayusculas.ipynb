{
 "cells": [
  {
   "cell_type": "code",
   "execution_count": null,
   "metadata": {
    "colab": {
     "base_uri": "https://localhost:8080/"
    },
    "executionInfo": {
     "elapsed": 5931,
     "status": "ok",
     "timestamp": 1739780630546,
     "user": {
      "displayName": "Gisselle Barreto",
      "userId": "01486531895219062980"
     },
     "user_tz": 180
    },
    "id": "LyzQqazyBOAB",
    "outputId": "2b64e798-621d-4bf5-9d72-79b0b25041d3"
   },
   "outputs": [],
   "source": [
    "from google.colab import drive\n",
    "drive.mount('/content/drive')"
   ]
  },
  {
   "cell_type": "code",
   "execution_count": null,
   "metadata": {
    "colab": {
     "base_uri": "https://localhost:8080/"
    },
    "executionInfo": {
     "elapsed": 2276,
     "status": "ok",
     "timestamp": 1739780638142,
     "user": {
      "displayName": "Gisselle Barreto",
      "userId": "01486531895219062980"
     },
     "user_tz": 180
    },
    "id": "p1X1hwEpAa-C",
    "outputId": "5d22b493-b9f8-4337-ee8c-d6d7efae7cd6"
   },
   "outputs": [],
   "source": [
    "# Desinstalar nltk completamente\n",
    "!pip uninstall -y nltk\n",
    "\n",
    "# Eliminar posibles archivos corruptos de nltk\n",
    "!rm -rf /usr/local/lib/python3.11/dist-packages/nltk*\n",
    "!rm -rf /root/nltk_data/\n",
    "!rm -rf ~/.nltk_data"
   ]
  },
  {
   "cell_type": "code",
   "execution_count": null,
   "metadata": {
    "colab": {
     "base_uri": "https://localhost:8080/"
    },
    "executionInfo": {
     "elapsed": 4290,
     "status": "ok",
     "timestamp": 1739780650036,
     "user": {
      "displayName": "Gisselle Barreto",
      "userId": "01486531895219062980"
     },
     "user_tz": 180
    },
    "id": "rw3bG8mvAdJ6",
    "outputId": "ad66eddd-c6af-4095-bed0-64adef71f6de"
   },
   "outputs": [],
   "source": [
    "!pip install --no-cache-dir --upgrade nltk"
   ]
  },
  {
   "cell_type": "code",
   "execution_count": null,
   "metadata": {
    "colab": {
     "base_uri": "https://localhost:8080/"
    },
    "executionInfo": {
     "elapsed": 4291,
     "status": "ok",
     "timestamp": 1739780659348,
     "user": {
      "displayName": "Gisselle Barreto",
      "userId": "01486531895219062980"
     },
     "user_tz": 180
    },
    "id": "i9F_vPU-Afe5",
    "outputId": "9b9d03df-5365-4fb8-9ccd-63dcf30566f5"
   },
   "outputs": [],
   "source": [
    "import nltk\n",
    "nltk.download('punkt')  # Para tokenización de palabras\n",
    "nltk.download('stopwords')  # Para stopwords (si las necesitas)"
   ]
  },
  {
   "cell_type": "code",
   "execution_count": null,
   "metadata": {
    "colab": {
     "base_uri": "https://localhost:8080/"
    },
    "collapsed": true,
    "executionInfo": {
     "elapsed": 54426,
     "status": "ok",
     "timestamp": 1739780742683,
     "user": {
      "displayName": "Gisselle Barreto",
      "userId": "01486531895219062980"
     },
     "user_tz": 180
    },
    "id": "sKqMutH0sB9O",
    "outputId": "aaead0f3-6db0-483a-d476-170e6e3781e6"
   },
   "outputs": [],
   "source": [
    "!pip install --upgrade nltk\n",
    "!pip install nltk\n",
    "\n",
    "import string\n",
    "from nltk.tokenize import word_tokenize\n",
    "import textstat\n",
    "import pandas as pd\n",
    "\n",
    "# Descarga todos los datos de NLTK\n",
    "nltk.download('all')\n",
    "\n",
    "# Definir el límite de caracteres para palabras largas\n",
    "LONG_WORD_THRESHOLD = 8  # Ajusta este valor para tu estudio\n",
    "\n",
    "# Función para contar palabras largas, palabras en mayúsculas y signos de puntuación en un mensaje\n",
    "def contar_caracteristicas(message):\n",
    "    tokens = word_tokenize(message)\n",
    "    num_palabras_largas = sum(1 for word in tokens if len(word) >= LONG_WORD_THRESHOLD)\n",
    "    num_palabras_mayusculas = sum(1 for word in tokens if word.isupper())\n",
    "    num_signos_puntuacion = sum(1 for char in message if char in string.punctuation)\n",
    "    return pd.Series({\n",
    "        'num_palabras_largas': num_palabras_largas,\n",
    "        'num_palabras_mayusculas': num_palabras_mayusculas,\n",
    "        'num_signos_puntuacion': num_signos_puntuacion\n",
    "    })\n",
    "\n",
    "# Cargar datos\n",
    "data = pd.read_csv('linkCSV')\n",
    "\n",
    "# Aplicar la función a cada mensaje\n",
    "caracteristicas = data['message'].apply(contar_caracteristicas)\n",
    "\n",
    "# Concatenar las nuevas columnas al DataFrame original\n",
    "data = pd.concat([data, caracteristicas], axis=1)\n",
    "\n",
    "# Guardar el DataFrame actualizado en un nuevo archivo CSV\n",
    "data.to_csv('linkCSV', index=False)\n",
    "\n",
    "# Verificar que las nuevas columnas han sido añadidas correctamente\n",
    "print(data.head())\n",
    "\n"
   ]
  },
  {
   "cell_type": "code",
   "execution_count": null,
   "metadata": {
    "colab": {
     "base_uri": "https://localhost:8080/"
    },
    "executionInfo": {
     "elapsed": 9022,
     "status": "ok",
     "timestamp": 1739780760713,
     "user": {
      "displayName": "Gisselle Barreto",
      "userId": "01486531895219062980"
     },
     "user_tz": 180
    },
    "id": "279EgrwauiF0",
    "outputId": "9403b9fc-2893-4ee9-9bc6-5f5d70477da6"
   },
   "outputs": [],
   "source": [
    "import pandas as pd\n",
    "import nltk\n",
    "import string\n",
    "from nltk.tokenize import word_tokenize\n",
    "\n",
    "nltk.download('punkt')\n",
    "\n",
    "# Definir el límite de caracteres para palabras largas\n",
    "LONG_WORD_THRESHOLD = 8  # Ajusta este valor para tu estudio\n",
    "\n",
    "# Función para contar palabras largas, palabras en mayúsculas y signos de puntuación en un mensaje\n",
    "def contar_caracteristicas(message):\n",
    "    tokens = word_tokenize(message)\n",
    "    num_palabras_primera_mayuscula = sum(1 for word in tokens if word.istitle())  # Palabras con la primera letra mayúscula\n",
    "    return pd.Series({\n",
    "        'num_palabras_primera_mayuscula': num_palabras_primera_mayuscula,  # Nueva columna\n",
    "    })\n",
    "\n",
    "# Cargar datos\n",
    "data = pd.read_csv('linkCSV')\n",
    "\n",
    "# Aplicar la función a cada mensaje\n",
    "caracteristicas = data['message'].apply(contar_caracteristicas)\n",
    "\n",
    "# Concatenar las nuevas columnas al DataFrame original\n",
    "data = pd.concat([data, caracteristicas], axis=1)\n",
    "\n",
    "# Guardar el DataFrame actualizado en un nuevo archivo CSV\n",
    "data.to_csv('linkCSV', index=False)\n",
    "\n",
    "# Verificar que las nuevas columnas han sido añadidas correctamente\n",
    "print(data.head())\n"
   ]
  },
  {
   "cell_type": "code",
   "execution_count": null,
   "metadata": {
    "colab": {
     "base_uri": "https://localhost:8080/"
    },
    "executionInfo": {
     "elapsed": 907,
     "status": "ok",
     "timestamp": 1726323052219,
     "user": {
      "displayName": "Gisselle Barreto",
      "userId": "08542221080314744655"
     },
     "user_tz": 240
    },
    "id": "0fcJku2avbqt",
    "outputId": "0f2711a1-ef72-486a-a74f-469d5cddc92e"
   },
   "outputs": [],
   "source": [
    "import pandas as pd\n",
    "\n",
    "# Cargar el archivo que contiene los mensajes y las columnas a sumar\n",
    "data = pd.read_csv('linkCSV')\n",
    "\n",
    "# Sumar los valores de las 4 columnas para cada subject_id\n",
    "suma_por_sujeto = data.groupby('subject_id').sum(numeric_only=True)[['negaciones']]\n",
    "\n",
    "# Cargar el segundo archivo donde se desea guardar las sumas\n",
    "archivo_destino = pd.read_csv('linkCSV')\n",
    "\n",
    "# Unir las sumas con el archivo destino usando la columna 'subject_id'\n",
    "resultado_final = archivo_destino.merge(suma_por_sujeto, on='subject_id', how='left')\n",
    "\n",
    "# Guardar el archivo actualizado con las sumas en las nuevas columnas\n",
    "resultado_final.to_csv('linkCSV', index=False)\n",
    "\n",
    "# Verificar que las sumas se han añadido correctamente\n",
    "print(resultado_final.head())\n"
   ]
  }
 ],
 "metadata": {
  "colab": {
   "provenance": []
  },
  "kernelspec": {
   "display_name": "Python 3",
   "name": "python3"
  },
  "language_info": {
   "name": "python"
  }
 },
 "nbformat": 4,
 "nbformat_minor": 0
}
