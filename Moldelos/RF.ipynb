{
 "cells": [
  {
   "cell_type": "code",
   "execution_count": null,
   "metadata": {
    "colab": {
     "base_uri": "https://localhost:8080/"
    },
    "collapsed": true,
    "executionInfo": {
     "elapsed": 30467,
     "status": "ok",
     "timestamp": 1757441184187,
     "user": {
      "displayName": "Kathia Garcia",
      "userId": "03947002799544824998"
     },
     "user_tz": 180
    },
    "id": "LbLRfxVehnBI",
    "outputId": "65e7e7ec-77a0-48b8-9552-f3f9f8bdaf2e"
   },
   "outputs": [],
   "source": [
    "## Montar google drive\n",
    "from google.colab import drive\n",
    "drive.mount('/content/drive')\n"
   ]
  },
  {
   "cell_type": "code",
   "execution_count": 2,
   "metadata": {
    "executionInfo": {
     "elapsed": 2336,
     "status": "ok",
     "timestamp": 1757441304063,
     "user": {
      "displayName": "Kathia Garcia",
      "userId": "03947002799544824998"
     },
     "user_tz": 180
    },
    "id": "0i8ll52JlI0n"
   },
   "outputs": [],
   "source": [
    "# Importa las librerías necesarias\n",
    "import pandas as pd\n",
    "import numpy as np\n",
    "from sklearn.ensemble import RandomForestClassifier\n",
    "from sklearn.model_selection import train_test_split, cross_val_score\n",
    "import matplotlib.pyplot as plt\n",
    "import seaborn as sns\n",
    "\n",
    "sns.set(style=\"whitegrid\")"
   ]
  },
  {
   "cell_type": "code",
   "execution_count": null,
   "metadata": {
    "colab": {
     "base_uri": "https://localhost:8080/"
    },
    "executionInfo": {
     "elapsed": 11457,
     "status": "ok",
     "timestamp": 1757441319652,
     "user": {
      "displayName": "Kathia Garcia",
      "userId": "03947002799544824998"
     },
     "user_tz": 180
    },
    "id": "cui18Dl6jY_f",
    "outputId": "bc890c33-fbd2-4d55-ac84-c7d586a9d91e"
   },
   "outputs": [],
   "source": [
    "!pip install openpyxl\n"
   ]
  },
  {
   "cell_type": "code",
   "execution_count": null,
   "metadata": {
    "executionInfo": {
     "elapsed": 2064,
     "status": "ok",
     "timestamp": 1757441335170,
     "user": {
      "displayName": "Kathia Garcia",
      "userId": "03947002799544824998"
     },
     "user_tz": 180
    },
    "id": "q3XpR4T9i_9o"
   },
   "outputs": [],
   "source": [
    "# Cargar el archivo desde Google Drive\n",
    "import pandas as pd\n",
    "\n",
    "# Especifica la ruta completa del archivo en tu Google Drive\n",
    "file_path = 'linkXlsx'\n",
    "\n",
    "\n",
    "# Cargar el archivo Excel en un DataFrame\n",
    "df = pd.read_excel(file_path)\n",
    "\n"
   ]
  },
  {
   "cell_type": "markdown",
   "metadata": {
    "id": "4CKMhoHpW5qD"
   },
   "source": [
    "**Random Forest con definicion de hiperparametros**\n",
    "\n"
   ]
  },
  {
   "cell_type": "markdown",
   "metadata": {
    "id": "tmrlTutPL0TD"
   },
   "source": [
    "Se utilizan los mejores hiperparametros encontrados y un listado variable de caracteristicas"
   ]
  },
  {
   "cell_type": "code",
   "execution_count": 5,
   "metadata": {
    "executionInfo": {
     "elapsed": 4,
     "status": "ok",
     "timestamp": 1757441340770,
     "user": {
      "displayName": "Kathia Garcia",
      "userId": "03947002799544824998"
     },
     "user_tz": 180
    },
    "id": "zfCJyjcQW7uU"
   },
   "outputs": [],
   "source": [
    "import pandas as pd\n",
    "from sklearn.ensemble import RandomForestClassifier\n",
    "from sklearn.model_selection import train_test_split\n",
    "from sklearn.preprocessing import StandardScaler, LabelEncoder\n",
    "from sklearn.pipeline import make_pipeline\n",
    "from sklearn.metrics import accuracy_score, precision_score, recall_score, f1_score, confusion_matrix\n",
    "from sklearn.pipeline import Pipeline\n",
    "\n",
    "\n",
    "# Los mejores hiperparámetros encontrados\n",
    "best_params = {\n",
    "    'randomforestclassifier__max_depth': 12,\n",
    "    'randomforestclassifier__max_features': 'sqrt',\n",
    "    'randomforestclassifier__min_samples_leaf': 1,\n",
    "    'randomforestclassifier__min_samples_split':5,\n",
    "    'randomforestclassifier__n_estimators': 500\n",
    "}\n",
    "\n",
    "\n",
    "\n",
    "pipeline = Pipeline([\n",
    "    ('classifier', RandomForestClassifier(\n",
    "         max_depth=best_params['randomforestclassifier__max_depth'],\n",
    "        max_features=best_params['randomforestclassifier__max_features'],\n",
    "        min_samples_leaf=best_params['randomforestclassifier__min_samples_leaf'],\n",
    "        min_samples_split=best_params['randomforestclassifier__min_samples_split'],\n",
    "        n_estimators=best_params['randomforestclassifier__n_estimators'],\n",
    "        random_state=42,\n",
    "        class_weight='balanced'   # Ajuste automático de los pesos de las clases\n",
    "\n",
    "    ))\n",
    "])\n",
    "\n",
    "\n",
    "\n"
   ]
  },
  {
   "cell_type": "markdown",
   "metadata": {
    "id": "_HMunChTHFFj"
   },
   "source": [
    "Definicion de caracteristicas\n"
   ]
  },
  {
   "cell_type": "code",
   "execution_count": 12,
   "metadata": {
    "collapsed": true,
    "executionInfo": {
     "elapsed": 8,
     "status": "ok",
     "timestamp": 1757441432215,
     "user": {
      "displayName": "Kathia Garcia",
      "userId": "03947002799544824998"
     },
     "user_tz": 180
    },
    "id": "vS0ElBMnYkxA"
   },
   "outputs": [],
   "source": [
    "from sklearn.preprocessing import LabelEncoder, MinMaxScaler\n",
    "from sklearn.model_selection import train_test_split\n",
    "\n",
    "# Codificar la columna 'sentiment' en valores numéricos\n",
    "label_encoder_sentiment = LabelEncoder()\n",
    "df['sentiment_numeric'] = label_encoder_sentiment.fit_transform(df['sentiment'])\n",
    "\n",
    "\n",
    "# Seleccionar características específicas\n",
    "columnas_seleccionadas = [\n",
    "   'POS','NEU','NEG',\n",
    "   'alegria','tristeza' ,'miedo', 'disgusto', 'enojo', 'sorpresa',\n",
    "   #'toxicity',\n",
    "   'yo', 'me', 'mi','mí',\n",
    "   'num_palabras_largas',\n",
    "   'falta de motivacion',  'aislamiento social',  'pensamientos suicidas',\n",
    "\n",
    "]\n",
    "\n",
    "\n",
    "\n",
    "# Normalizar solo las columnas numéricas específicas\n",
    "scaler = MinMaxScaler()\n",
    "cols_to_normalize = [\n",
    "    'num_palabras_mayusculas', 'num_palabras_largas',\n",
    "    'negaciones','num_signos_puntuacion',\n",
    "]\n",
    "\n",
    "\n",
    "\n",
    "# Verificar que las columnas a normalizar existan en el DataFrame antes de normalizar\n",
    "cols_to_normalize = [col for col in cols_to_normalize if col in df.columns]\n",
    "df[cols_to_normalize] = scaler.fit_transform(df[cols_to_normalize])\n",
    "\n",
    "# Seleccionar las características\n",
    "X = df[columnas_seleccionadas].copy()\n",
    "\n",
    "# Codificar las etiquetas de la columna 'label'\n",
    "label_encoder = LabelEncoder()\n",
    "y = label_encoder.fit_transform(df['label'])  # 0, 1 y 2 deben estar en esta columna\n",
    "\n",
    "# Dividir los datos en conjunto de entrenamiento y prueba\n",
    "X_train, X_test, y_train, y_test = train_test_split(X, y, test_size=0.3, random_state=42)\n",
    "\n",
    "\n"
   ]
  },
  {
   "cell_type": "markdown",
   "metadata": {
    "id": "c4mSXYBXR83y"
   },
   "source": []
  },
  {
   "cell_type": "markdown",
   "metadata": {
    "id": "ANdf95TwHPlB"
   },
   "source": [
    "Entrenamiento del modelo"
   ]
  },
  {
   "cell_type": "code",
   "execution_count": null,
   "metadata": {
    "colab": {
     "base_uri": "https://localhost:8080/"
    },
    "executionInfo": {
     "elapsed": 1129,
     "status": "ok",
     "timestamp": 1757441436223,
     "user": {
      "displayName": "Kathia Garcia",
      "userId": "03947002799544824998"
     },
     "user_tz": 180
    },
    "id": "7eBqvBfxZNd7",
    "outputId": "697dee0f-d63e-44d0-bf29-8261c21e0148"
   },
   "outputs": [],
   "source": [
    "\n",
    "# Entrenar el modelo\n",
    "\n",
    "pipeline.fit(X_train, y_train)\n",
    "\n",
    "# Hacer predicciones\n",
    "y_pred = pipeline.predict(X_test)\n",
    "\n",
    "# Calcular métricas de evaluación\n",
    "accuracy = accuracy_score(y_test, y_pred)\n",
    "precision = precision_score(y_test, y_pred, average='weighted', zero_division=0)\n",
    "recall = recall_score(y_test, y_pred, average='weighted', zero_division=0)\n",
    "f1 = f1_score(y_test, y_pred, average='weighted', zero_division=0)\n",
    "conf_matrix = confusion_matrix(y_test, y_pred)\n",
    "\n",
    "# Mostrar métricas\n",
    "print(f'Accuracy on test set: {accuracy:.4f}')\n",
    "print(f'Precision: {precision:.4f}')\n",
    "print(f'Recall: {recall:.4f}')\n",
    "print(f'F1 Score: {f1:.4f}')\n",
    "print('Confusion Matrix:')\n",
    "print(conf_matrix)\n",
    "\n",
    "# Mostrar predicciones y etiquetas verdaderas\n",
    "predicciones_df = pd.DataFrame({\n",
    "    'Etiqueta Verdadera': (y_test),\n",
    "    'Predicción': (y_pred)\n",
    "})\n",
    "\n",
    "print('\\nPredicciones y Etiquetas Verdaderas:')\n",
    "print(predicciones_df)"
   ]
  },
  {
   "cell_type": "markdown",
   "metadata": {
    "id": "_I0pmyVFIPyb"
   },
   "source": [
    "**Busqueda de hiperparametros**\n",
    "Con validacion cruzada"
   ]
  },
  {
   "cell_type": "code",
   "execution_count": null,
   "metadata": {
    "colab": {
     "base_uri": "https://localhost:8080/",
     "height": 298
    },
    "collapsed": true,
    "executionInfo": {
     "elapsed": 124600,
     "status": "ok",
     "timestamp": 1748471740291,
     "user": {
      "displayName": "Kathia Garcia",
      "userId": "03947002799544824998"
     },
     "user_tz": 180
    },
    "id": "GkFashWsLwzx",
    "outputId": "0d3785cf-54cc-4cb0-dd86-73f2e5a68052"
   },
   "outputs": [],
   "source": [
    "from sklearn.ensemble import RandomForestClassifier\n",
    "from sklearn.model_selection import GridSearchCV\n",
    "from sklearn.metrics import make_scorer, f1_score, precision_score, recall_score, accuracy_score\n",
    "\n",
    "# Clasificador\n",
    "rf = RandomForestClassifier(random_state=42, class_weight='balanced')\n",
    "\n",
    "# Espacio de búsqueda reducido\n",
    "param_grid = {\n",
    "    'n_estimators': [100, 300, 500],\n",
    "    'max_depth': [12, 20, None],\n",
    "    'max_features': ['sqrt'],\n",
    "    'min_samples_split': [2, 5],\n",
    "    'min_samples_leaf': [1, 2],\n",
    "}\n",
    "\n",
    "# Definición de las métricas\n",
    "scoring = {\n",
    "    'accuracy': 'accuracy',\n",
    "    'precision_weighted': 'precision_weighted',\n",
    "    'recall_weighted': 'recall_weighted',\n",
    "    'f1_weighted': 'f1_weighted'\n",
    "}\n",
    "\n",
    "# GridSearchCV\n",
    "grid_search = GridSearchCV(\n",
    "    estimator=rf,\n",
    "    param_grid=param_grid,\n",
    "    scoring=scoring,\n",
    "    refit='f1_weighted',  # El modelo final se ajusta usando esta métrica\n",
    "    cv=5,\n",
    "    n_jobs=-1,\n",
    "    verbose=2\n",
    ")\n",
    "\n",
    "# Entrenamiento\n",
    "grid_search.fit(X_train, y_train)\n",
    "\n",
    "# Resultados\n",
    "print(\"Mejores hiperparámetros:\", grid_search.best_params_)\n",
    "print(\"Mejor puntuación F1 ponderada:\", grid_search.best_score_)\n",
    "\n",
    "# Métricas de la mejor combinación\n",
    "results_df = pd.DataFrame(grid_search.cv_results_)\n",
    "display(results_df[['mean_test_accuracy', 'mean_test_precision_weighted', 'mean_test_recall_weighted', 'mean_test_f1_weighted', 'params']].sort_values(by='mean_test_f1_weighted', ascending=False).head())\n"
   ]
  },
  {
   "cell_type": "code",
   "execution_count": null,
   "metadata": {
    "colab": {
     "base_uri": "https://localhost:8080/"
    },
    "executionInfo": {
     "elapsed": 7370,
     "status": "ok",
     "timestamp": 1748473058772,
     "user": {
      "displayName": "Kathia Garcia",
      "userId": "03947002799544824998"
     },
     "user_tz": 180
    },
    "id": "t9ubHQLBHWYb",
    "outputId": "81748060-e52e-4133-9f59-76e1fb22ccf6"
   },
   "outputs": [],
   "source": [
    "from sklearn.ensemble import RandomForestClassifier\n",
    "from sklearn.metrics import accuracy_score, precision_score, recall_score, f1_score\n",
    "\n",
    "# Lista de combinaciones propuestas\n",
    "combinaciones = [\n",
    "    {'max_depth': 20, 'min_samples_leaf': 2, 'min_samples_split': 2, 'n_estimators': 100},   # Caso 1\n",
    "    {'max_depth': 15, 'min_samples_leaf': 1, 'min_samples_split': 2, 'n_estimators': 100},   # Caso 2\n",
    "    {'max_depth': 15, 'min_samples_leaf': 2, 'min_samples_split': 5, 'n_estimators': 100},   # Caso 3\n",
    "    {'max_depth': 15, 'min_samples_leaf': 2, 'min_samples_split': 2, 'n_estimators': 300},   # Caso 4\n",
    "    {'max_depth': None, 'min_samples_leaf': 2, 'min_samples_split': 2, 'n_estimators': 100}  # Caso 5\n",
    "]\n",
    "\n",
    "# Evaluación de cada combinación\n",
    "for i, params in enumerate(combinaciones, start=1):\n",
    "    print(f\"🔍 Evaluando combinación #{i}: {params}\")\n",
    "\n",
    "    # Entrenamiento del modelo\n",
    "    model = RandomForestClassifier(\n",
    "        max_depth=params['max_depth'],\n",
    "        min_samples_leaf=params['min_samples_leaf'],\n",
    "        min_samples_split=params['min_samples_split'],\n",
    "        n_estimators=params['n_estimators'],\n",
    "        max_features='sqrt',\n",
    "        class_weight='balanced',\n",
    "        random_state=42\n",
    "    )\n",
    "    model.fit(X_train, y_train)\n",
    "    y_pred = model.predict(X_test)\n",
    "\n",
    "    # Métricas\n",
    "    acc = accuracy_score(y_test, y_pred)\n",
    "    prec = precision_score(y_test, y_pred, average='weighted')\n",
    "    rec = recall_score(y_test, y_pred, average='weighted')\n",
    "    f1 = f1_score(y_test, y_pred, average='weighted')\n",
    "\n",
    "    print(f\"📊 Accuracy: {acc:.4f} | Precision: {prec:.4f} | Recall: {rec:.4f} | F1: {f1:.4f}\")\n",
    "    print(\"-\" * 60)\n"
   ]
  },
  {
   "cell_type": "code",
   "execution_count": null,
   "metadata": {
    "colab": {
     "base_uri": "https://localhost:8080/",
     "height": 600
    },
    "executionInfo": {
     "elapsed": 2097,
     "status": "ok",
     "timestamp": 1748478367799,
     "user": {
      "displayName": "Kathia Garcia",
      "userId": "03947002799544824998"
     },
     "user_tz": 180
    },
    "id": "_Ic7mlPIbngh",
    "outputId": "3d87e6eb-f9a2-4b39-8ced-df3038d075ab"
   },
   "outputs": [],
   "source": [
    "# Obtener la importancia de cada característica\n",
    "importancias = model.feature_importances_\n",
    "features = X_train.columns\n",
    "\n",
    "# Crear un DataFrame con los resultados\n",
    "importancia_df = pd.DataFrame({\n",
    "    'Feature': features,\n",
    "    'Importancia': importancias\n",
    "}).sort_values(by='Importancia', ascending=False)\n",
    "\n",
    "# Mostrar las 15 características más importantes\n",
    "top_features = importancia_df.head(15)\n",
    "\n",
    "# Graficar\n",
    "plt.figure(figsize=(10, 6))\n",
    "plt.barh(top_features['Feature'], top_features['Importancia'])\n",
    "plt.xlabel('Importancia')\n",
    "plt.title('Importancia de las Características - Modelo Base Random Forest')\n",
    "plt.gca().invert_yaxis()\n",
    "plt.tight_layout()\n",
    "plt.show()"
   ]
  },
  {
   "cell_type": "markdown",
   "metadata": {
    "id": "r_Jt6AJBDT1z"
   },
   "source": []
  }
 ],
 "metadata": {
  "colab": {
   "provenance": []
  },
  "kernelspec": {
   "display_name": "Python 3",
   "name": "python3"
  },
  "language_info": {
   "name": "python"
  }
 },
 "nbformat": 4,
 "nbformat_minor": 0
}
