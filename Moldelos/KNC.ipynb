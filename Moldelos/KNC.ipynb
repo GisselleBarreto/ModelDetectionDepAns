{
 "cells": [
  {
   "cell_type": "code",
   "execution_count": null,
   "metadata": {
    "colab": {
     "base_uri": "https://localhost:8080/"
    },
    "executionInfo": {
     "elapsed": 30073,
     "status": "ok",
     "timestamp": 1748809143367,
     "user": {
      "displayName": "Gisselle Barreto",
      "userId": "01486531895219062980"
     },
     "user_tz": 180
    },
    "id": "q3XpR4T9i_9o",
    "outputId": "0a85d4fe-85b4-4348-a279-cc52b6946ac0"
   },
   "outputs": [],
   "source": [
    "# ===============================================\n",
    "# 1. Importación de librerías\n",
    "# ===============================================\n",
    "\n",
    "import pandas as pd\n",
    "from sklearn.neighbors import KNeighborsClassifier\n",
    "from sklearn.model_selection import train_test_split\n",
    "from sklearn.preprocessing import StandardScaler, LabelEncoder\n",
    "from sklearn.pipeline import make_pipeline\n",
    "from sklearn.metrics import accuracy_score, precision_score, recall_score, f1_score, confusion_matrix\n",
    "from sklearn.preprocessing import LabelEncoder, MinMaxScaler\n",
    "from sklearn.model_selection import train_test_split\n",
    "\n",
    "# ===============================================\n",
    "# 2. Montar drive\n",
    "# ===============================================\n",
    "\n",
    "from google.colab import drive\n",
    "drive.mount('/content/drive')\n",
    "\n",
    "# ===============================================\n",
    "# 3. Carga del dataset\n",
    "# ===============================================\n",
    "\n",
    "# Especifica la ruta completa del archivo en tu Google Drive\n",
    "file_path = 'linkXlsx'\n",
    "\n",
    "\n",
    "# Cargar el archivo Excel en un DataFrame\n",
    "df = pd.read_excel(file_path)\n",
    "\n"
   ]
  },
  {
   "cell_type": "markdown",
   "metadata": {
    "id": "4CKMhoHpW5qD"
   },
   "source": [
    "**KNC con definicion de hiperparametros**\n",
    "\n"
   ]
  },
  {
   "cell_type": "markdown",
   "metadata": {
    "id": "tmrlTutPL0TD"
   },
   "source": [
    "Se utilizan los mejores hiperparametros encontrados y un listado variable de caracteristicas"
   ]
  },
  {
   "cell_type": "code",
   "execution_count": 41,
   "metadata": {
    "executionInfo": {
     "elapsed": 5,
     "status": "ok",
     "timestamp": 1748814856384,
     "user": {
      "displayName": "Gisselle Barreto",
      "userId": "01486531895219062980"
     },
     "user_tz": 180
    },
    "id": "zfCJyjcQW7uU"
   },
   "outputs": [],
   "source": [
    "# ===============================================\n",
    "# 4. Hiperparametros base\n",
    "# ===============================================\n",
    "\n",
    "\n",
    "# Los mejores hiperparámetros base\n",
    "best_params = {\n",
    "    'n_neighbors': 5,        # Número de vecinos a considerar (k)\n",
    "    'weights':'distance',     # Peso uniforme para todos los vecinos ('distance' también es común)\n",
    "    'algorithm':'auto',      # Algoritmo de búsqueda de vecinos: 'auto', 'ball_tree', 'kd_tree', 'brute'\n",
    "    'leaf_size':30,          # Tamaño de hoja para 'ball_tree' o 'kd_tree'\n",
    "    'p':2,                   # Parámetro de potencia para la métrica de Minkowski (p=2 equivale a Euclidiana)\n",
    "    'metric':'manhattan',    # Tipo de métrica ('euclidean', 'manhattan', etc.)\n",
    "    'n_jobs':None\n",
    "}\n",
    "\n",
    "# Crear el pipeline con StandardScaler y KNeighborsClassifier\n",
    "pipeline = make_pipeline(\n",
    "    StandardScaler(),\n",
    "    KNeighborsClassifier(\n",
    "        n_neighbors=best_params['n_neighbors'],\n",
    "        weights=best_params['weights'],\n",
    "        algorithm=best_params['algorithm'],\n",
    "        leaf_size=best_params['leaf_size'],\n",
    "        p=best_params['p'],\n",
    "        metric=best_params['metric'],\n",
    "        n_jobs=best_params['n_jobs']\n",
    "    )\n",
    ")\n"
   ]
  },
  {
   "cell_type": "markdown",
   "metadata": {
    "id": "_HMunChTHFFj"
   },
   "source": [
    "Definicion de caracteristicas\n"
   ]
  },
  {
   "cell_type": "code",
   "execution_count": 42,
   "metadata": {
    "collapsed": true,
    "executionInfo": {
     "elapsed": 7,
     "status": "ok",
     "timestamp": 1748814857892,
     "user": {
      "displayName": "Gisselle Barreto",
      "userId": "01486531895219062980"
     },
     "user_tz": 180
    },
    "id": "vS0ElBMnYkxA"
   },
   "outputs": [],
   "source": [
    "# ===============================================\n",
    "# 5. Selección de características\n",
    "# ===============================================\n",
    "\n",
    "\n",
    "# Codificar las variables categóricas\n",
    "label_encoder_sentiment = LabelEncoder()\n",
    "df['sentiment_numeric'] = label_encoder_sentiment.fit_transform(df['sentiment'])\n",
    "\n",
    "# Seleccionar las características y la variable objetivo\n",
    "columnas_seleccionadas = [\n",
    "   'toxicity',\n",
    "\n",
    "   'POS','NEU','NEG',\n",
    "\n",
    "   'alegría','tristeza' ,'miedo', 'disgusto', 'enojo', 'sorpresa',\n",
    "\n",
    "   'me', 'mi','yo','mí',\n",
    "\n",
    "   'num_palabras_largas',\n",
    "   'negaciones',\n",
    "   #'num_palabras_mayusculas',\n",
    "   #'num_signos_puntuacion',\n",
    "   #'num_palabras_mayusculas',\n",
    "\n",
    "   'falta de motivacion',\n",
    "   'pensamientos suicidas',\n",
    "   'aislamiento social',\n",
    "   #'baja autoestima',\n",
    "\n",
    "   #'hora',\n",
    "\n",
    "   #'Medicamento_ansiedad', 'Medicamento_depresion'\n",
    "\n",
    "   'pensamientos acelerados',\n",
    "   #'insomnio',\n",
    "   'ataques de panico'\n",
    "]\n",
    "\n",
    "# Normalizar solo las columnas numéricas específicas\n",
    "scaler = MinMaxScaler()\n",
    "cols_to_normalize = [\n",
    "    'num_palabras_largas','num_palabras_mayusculas','negaciones', 'num_signos_puntuacion','num_palabras_primera_mayuscula'\n",
    "\n",
    "]\n",
    "\n",
    "#'num_palabras_largas','negaciones','num_palabras_mayusculas',\n",
    "#'num_palabras_primera_mayuscula', 'num_signos_puntuacion',\n",
    "\n",
    "# Verificar que las columnas a normalizar existan en el DataFrame antes de normalizar\n",
    "cols_to_normalize = [col for col in cols_to_normalize if col in df.columns]\n",
    "df[cols_to_normalize] = scaler.fit_transform(df[cols_to_normalize])\n",
    "\n",
    "# Seleccionar las características\n",
    "X = df[columnas_seleccionadas].copy()\n",
    "\n",
    "# Codificar las etiquetas de la columna 'label'\n",
    "label_encoder = LabelEncoder()\n",
    "y = label_encoder.fit_transform(df['label'])  # 0, 1 y 2 deben estar en esta columna\n",
    "\n",
    "# ===============================================\n",
    "# 6. División del dataset 70% train / 30% test\n",
    "# ===============================================\n",
    "\n",
    "# Dividir los datos en conjunto de entrenamiento y prueba\n",
    "X_train, X_test, y_train, y_test = train_test_split(X, y, test_size=0.3, random_state=42)\n",
    "\n",
    "\n"
   ]
  },
  {
   "cell_type": "markdown",
   "metadata": {
    "id": "ANdf95TwHPlB"
   },
   "source": [
    "Entrenamiento del modelo"
   ]
  },
  {
   "cell_type": "code",
   "execution_count": null,
   "metadata": {
    "colab": {
     "base_uri": "https://localhost:8080/"
    },
    "executionInfo": {
     "elapsed": 40,
     "status": "ok",
     "timestamp": 1748814859831,
     "user": {
      "displayName": "Gisselle Barreto",
      "userId": "01486531895219062980"
     },
     "user_tz": 180
    },
    "id": "7eBqvBfxZNd7",
    "outputId": "ad894bff-c424-4617-9b52-df5696fcc5ed"
   },
   "outputs": [],
   "source": [
    "# ===============================================\n",
    "# 7. Configuración base del modelo\n",
    "# ===============================================\n",
    "\n",
    "# Entrenar el modelo\n",
    "pipeline.fit(X_train, y_train)\n",
    "\n",
    "# Hacer predicciones\n",
    "y_pred = pipeline.predict(X_test)\n",
    "\n",
    "# Calcular métricas de evaluación\n",
    "f1 = f1_score(y_test, y_pred, average='weighted', zero_division=0)\n",
    "accuracy = accuracy_score(y_test, y_pred)\n",
    "precision = precision_score(y_test, y_pred, average='weighted', zero_division=0)\n",
    "recall = recall_score(y_test, y_pred, average='weighted', zero_division=0)\n",
    "conf_matrix = confusion_matrix(y_test, y_pred)\n",
    "\n",
    "# Mostrar métricas\n",
    "print(f'F1 Score: {f1:.4f}')\n",
    "print(f'Accuracy on test set: {accuracy:.4f}')\n",
    "print(f'Precision: {precision:.4f}')\n",
    "print(f'Recall: {recall:.4f}')\n",
    "print('Confusion Matrix:')\n",
    "print(conf_matrix)\n",
    "\n",
    "# Mostrar predicciones y etiquetas verdaderas\n",
    "predicciones_df = pd.DataFrame({\n",
    "    'Etiqueta Verdadera': y_test,\n",
    "    'Predicción': y_pred\n",
    "})\n",
    "\n",
    "print('\\nPredicciones y Etiquetas Verdaderas:')\n",
    "print(predicciones_df)"
   ]
  },
  {
   "cell_type": "markdown",
   "metadata": {
    "id": "0Tq_FkxANLyN"
   },
   "source": [
    "**Guarda el modelo**"
   ]
  },
  {
   "cell_type": "code",
   "execution_count": null,
   "metadata": {
    "colab": {
     "base_uri": "https://localhost:8080/"
    },
    "executionInfo": {
     "elapsed": 8,
     "status": "ok",
     "timestamp": 1748813456769,
     "user": {
      "displayName": "Gisselle Barreto",
      "userId": "01486531895219062980"
     },
     "user_tz": 180
    },
    "id": "z4EZU5hYNPLF",
    "outputId": "91eafbfc-a607-4a0d-d9b6-1635276cab30"
   },
   "outputs": [],
   "source": [
    "# ===============================================\n",
    "# 8. Guardar el modelo\n",
    "# ===============================================\n",
    "\n",
    "# 7. Guardar el modelo entrenado\n",
    "import joblib\n",
    "\n",
    "# Guardar el pipeline completo (incluye el scaler y el modelo KNC)\n",
    "joblib.dump(pipeline, 'modelo_knc_entrenado.pkl')  # Cambiado a KNC\n",
    "\n",
    "# Guardar el label encoder para la columna 'label'\n",
    "joblib.dump(label_encoder, 'label_encoder.pkl')\n",
    "\n",
    "print(\"Modelo KNC entrenado y guardado exitosamente.\")"
   ]
  },
  {
   "cell_type": "markdown",
   "metadata": {
    "id": "WJdHjj_2l-y3"
   },
   "source": [
    "**Búsqueda de los mejores hiperparametros**"
   ]
  },
  {
   "cell_type": "code",
   "execution_count": null,
   "metadata": {
    "colab": {
     "base_uri": "https://localhost:8080/"
    },
    "executionInfo": {
     "elapsed": 6117,
     "status": "ok",
     "timestamp": 1748813464006,
     "user": {
      "displayName": "Gisselle Barreto",
      "userId": "01486531895219062980"
     },
     "user_tz": 180
    },
    "id": "q4flSOrUlo5N",
    "outputId": "031c6cba-2dc8-4526-d204-a456ae2a53dc"
   },
   "outputs": [],
   "source": [
    "# ===============================================\n",
    "# 9. Búsqueda de Hiperparámetros\n",
    "# ===============================================\n",
    "\n",
    "from sklearn.pipeline import Pipeline\n",
    "from sklearn.preprocessing import StandardScaler\n",
    "from sklearn.neighbors import KNeighborsClassifier\n",
    "from sklearn.model_selection import GridSearchCV\n",
    "\n",
    "# Crear el pipeline\n",
    "pipeline = Pipeline([\n",
    "    ('scaler', StandardScaler()),\n",
    "    ('knn', KNeighborsClassifier())\n",
    "])\n",
    "\n",
    "# Definir el espacio de búsqueda\n",
    "param_grid = {\n",
    "    'knn__n_neighbors': [3, 5, 7, 9],\n",
    "    'knn__weights': ['uniform', 'distance'],\n",
    "    'knn__metric': ['euclidean', 'manhattan'],\n",
    "    'knn__p': [1, 2]\n",
    "}\n",
    "\n",
    "# Configurar GridSearchCV\n",
    "grid_search = GridSearchCV(\n",
    "    estimator=pipeline,\n",
    "    param_grid=param_grid,\n",
    "    scoring='f1_weighted',\n",
    "    cv=5,\n",
    "    verbose=1,\n",
    "    n_jobs=-1\n",
    ")\n",
    "\n",
    "# Ejecutar la búsqueda\n",
    "grid_search.fit(X, y)\n",
    "\n",
    "# Resultados\n",
    "print(\"Mejores Hiperparámetros:\", grid_search.best_params_)\n",
    "print(\"Mejor F1 Score ponderado:\", grid_search.best_score_)"
   ]
  },
  {
   "cell_type": "markdown",
   "metadata": {
    "id": "nF5SpiH9QRwX"
   },
   "source": [
    "\n",
    "**Utilizando validacion cruzada**"
   ]
  },
  {
   "cell_type": "markdown",
   "metadata": {
    "id": "_uyTnRbGR7SU"
   },
   "source": [
    "Utilizando cross_validate"
   ]
  },
  {
   "cell_type": "code",
   "execution_count": null,
   "metadata": {
    "colab": {
     "base_uri": "https://localhost:8080/"
    },
    "executionInfo": {
     "elapsed": 110,
     "status": "ok",
     "timestamp": 1748813468436,
     "user": {
      "displayName": "Gisselle Barreto",
      "userId": "01486531895219062980"
     },
     "user_tz": 180
    },
    "id": "jeBYyubvQZYL",
    "outputId": "66bae451-080c-4141-adcb-44b1a009a366"
   },
   "outputs": [],
   "source": [
    "# ===============================================\n",
    "# 10. Validación Cruzada con el mejor modelo KNC\n",
    "# ===============================================\n",
    "\n",
    "from sklearn.model_selection import cross_validate\n",
    "\n",
    "# Validación cruzada directamente con el pipeline optimizado encontrado por GridSearchCV\n",
    "cv_results = cross_validate(\n",
    "    grid_search.best_estimator_,  # Usa el mejor pipeline completo (Scaler + KNC)\n",
    "    X, y, cv=5,\n",
    "    scoring=['accuracy', 'precision_weighted', 'recall_weighted', 'f1_weighted'],\n",
    "    n_jobs=-1\n",
    ")\n",
    "\n",
    "# Mostrar métricas promedio\n",
    "print(\"Resultados de Validación Cruzada (Promedios):\")\n",
    "for metric in ['accuracy', 'precision_weighted', 'recall_weighted', 'f1_weighted']:\n",
    "    print(f\"{metric.capitalize()}: {cv_results['test_' + metric].mean():.4f}\")\n"
   ]
  },
  {
   "cell_type": "code",
   "execution_count": null,
   "metadata": {
    "colab": {
     "base_uri": "https://localhost:8080/",
     "height": 1000
    },
    "executionInfo": {
     "elapsed": 3956,
     "status": "ok",
     "timestamp": 1748813474292,
     "user": {
      "displayName": "Gisselle Barreto",
      "userId": "01486531895219062980"
     },
     "user_tz": 180
    },
    "id": "P6uHh59oqU6x",
    "outputId": "8fab7bf3-5999-4622-d89f-638081c1fd13"
   },
   "outputs": [],
   "source": [
    "# ===============================================\n",
    "# 11. Importancia de características\n",
    "# ===============================================\n",
    "\n",
    "import matplotlib.pyplot as plt\n",
    "import numpy as np\n",
    "from sklearn.inspection import permutation_importance\n",
    "\n",
    "# Asumiendo que 'pipeline' es tu pipeline de KNC entrenado\n",
    "# y 'X_test', 'y_test' son tus datos de prueba\n",
    "\n",
    "# Use the best estimator from the grid search\n",
    "best_pipeline = grid_search.best_estimator_\n",
    "\n",
    "# Calcular la importancia de las características con permutation_importance\n",
    "result = permutation_importance(best_pipeline, X_test, y_test, n_repeats=10, random_state=42, scoring='accuracy')\n",
    "\n",
    "# Obtener la importancia promedio y la desviación estándar\n",
    "importances = result.importances_mean\n",
    "std = result.importances_std\n",
    "\n",
    "# Ordenar las características por importancia (de mayor a menor)\n",
    "indices_ordenados = np.argsort(importances)[::-1]\n",
    "nombres_caracteristicas_ordenadas = [X_test.columns[i] for i in indices_ordenados]\n",
    "\n",
    "# Visualizar la importancia de las características\n",
    "plt.figure(figsize=(10, 6))\n",
    "plt.barh(nombres_caracteristicas_ordenadas, importances[indices_ordenados], xerr=std[indices_ordenados], color='skyblue')\n",
    "plt.xlabel(\"Importancia\")\n",
    "plt.ylabel(\"Características\")\n",
    "plt.title(\"Importancia de Características en KNC\")\n",
    "plt.show()\n",
    "\n",
    "\n",
    "# Normalizar la importancia a un rango de 0 a 1\n",
    "scaler = MinMaxScaler()\n",
    "importances_scaled = scaler.fit_transform(importances.reshape(-1, 1)).flatten()\n",
    "\n",
    "# Ordenar las características por importancia (de mayor a menor)\n",
    "indices_ordenados = np.argsort(importances_scaled)[::1]  # Ordenar por la importancia escalada\n",
    "nombres_caracteristicas_ordenadas = [X_test.columns[i] for i in indices_ordenados]\n",
    "\n",
    "# Visualizar la importancia de las características (con barras horizontales)\n",
    "plt.figure(figsize=(10, 6))\n",
    "plt.barh(nombres_caracteristicas_ordenadas, importances_scaled[indices_ordenados], color='skyblue')\n",
    "plt.xlabel(\"Importancia (Escalada)\")\n",
    "plt.ylabel(\"Características\")\n",
    "plt.title(\"Importancia de Características en KNC\")\n",
    "plt.show()"
   ]
  }
 ],
 "metadata": {
  "colab": {
   "provenance": []
  },
  "kernelspec": {
   "display_name": "Python 3",
   "name": "python3"
  },
  "language_info": {
   "name": "python"
  }
 },
 "nbformat": 4,
 "nbformat_minor": 0
}
