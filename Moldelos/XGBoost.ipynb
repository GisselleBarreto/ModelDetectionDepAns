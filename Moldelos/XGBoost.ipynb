{
 "cells": [
  {
   "cell_type": "code",
   "execution_count": null,
   "metadata": {
    "colab": {
     "base_uri": "https://localhost:8080/"
    },
    "collapsed": true,
    "executionInfo": {
     "elapsed": 31461,
     "status": "ok",
     "timestamp": 1757466173382,
     "user": {
      "displayName": "Gisselle Barreto",
      "userId": "01486531895219062980"
     },
     "user_tz": 180
    },
    "id": "a0EDyBVwbm-l",
    "outputId": "25f10cf1-27a4-4db1-8832-3aa8b818dc6e"
   },
   "outputs": [],
   "source": [
    "# ===============================================\n",
    "# 1. Importación de librerías\n",
    "# ===============================================\n",
    "\n",
    "!pip install xgboost\n",
    "!pip uninstall -y scikit-learn\n",
    "!pip install scikit-learn==1.5.2\n",
    "\n",
    "from sklearn.preprocessing import LabelEncoder, MinMaxScaler\n",
    "from sklearn.model_selection import train_test_split\n",
    "import pandas as pd\n",
    "from sklearn.metrics import accuracy_score, f1_score, precision_score, recall_score\n",
    "import xgboost as xgb\n",
    "from sklearn.model_selection import GridSearchCV"
   ]
  },
  {
   "cell_type": "code",
   "execution_count": null,
   "metadata": {
    "colab": {
     "base_uri": "https://localhost:8080/"
    },
    "executionInfo": {
     "elapsed": 28441,
     "status": "ok",
     "timestamp": 1757466245123,
     "user": {
      "displayName": "Gisselle Barreto",
      "userId": "01486531895219062980"
     },
     "user_tz": 180
    },
    "id": "VMskmyovdCvr",
    "outputId": "c6f83460-931a-4fb9-c95a-7c0e8493c580"
   },
   "outputs": [],
   "source": [
    "# ===============================================\n",
    "# 2. Montar drive\n",
    "# ===============================================\n",
    "\n",
    "from google.colab import drive\n",
    "drive.mount('/content/drive')"
   ]
  },
  {
   "cell_type": "code",
   "execution_count": null,
   "metadata": {
    "executionInfo": {
     "elapsed": 6242,
     "status": "ok",
     "timestamp": 1757466259123,
     "user": {
      "displayName": "Gisselle Barreto",
      "userId": "01486531895219062980"
     },
     "user_tz": 180
    },
    "id": "L8QoLBrMgas2"
   },
   "outputs": [],
   "source": [
    "# ===============================================\n",
    "# 3. Carga del dataset\n",
    "# ===============================================\n",
    "\n",
    "# Especifica la ruta completa del archivo en tu Google Drive\n",
    "file_path = 'linkXlsx'\n",
    "\n",
    "# Cargar el archivo Excel en un DataFrame\n",
    "df = pd.read_excel(file_path)\n"
   ]
  },
  {
   "cell_type": "code",
   "execution_count": 4,
   "metadata": {
    "executionInfo": {
     "elapsed": 30,
     "status": "ok",
     "timestamp": 1757466343744,
     "user": {
      "displayName": "Gisselle Barreto",
      "userId": "01486531895219062980"
     },
     "user_tz": 180
    },
    "id": "dURPsVVGhWzF"
   },
   "outputs": [],
   "source": [
    "# ===============================================\n",
    "# 4. Selección de características\n",
    "# ===============================================\n",
    "\n",
    "columnas_seleccionadas = [\n",
    "   'toxicity',\n",
    "\n",
    "   'POS','NEU','NEG',\n",
    "\n",
    "   'alegría','tristeza' ,'miedo', 'disgusto', 'enojo', 'sorpresa',\n",
    "\n",
    "   'me', 'mi','yo','mí',\n",
    "\n",
    "   'num_palabras_largas',\n",
    "   'negaciones',\n",
    "   #'num_palabras_mayusculas',\n",
    "   #'num_signos_puntuacion',\n",
    "   #'num_palabras_mayusculas',\n",
    "\n",
    "   'falta de motivacion',\n",
    "   'pensamientos suicidas',\n",
    "   'aislamiento social',\n",
    "   #'baja autoestima',\n",
    "\n",
    "   #'hora',\n",
    "\n",
    "   #'Medicamento_ansiedad', 'Medicamento_depresion'\n",
    "\n",
    "   #'pensamientos acelerados',\n",
    "   #'insomnio',\n",
    "   #'ataques de panico'\n",
    "\n",
    "]\n",
    "\n",
    "\n",
    "# Normalizar solo las columnas numéricas específicas\n",
    "scaler = MinMaxScaler()\n",
    "cols_to_normalize = [\n",
    "    'num_palabras_largas','num_palabras_mayusculas','negaciones', 'num_signos_puntuacion'\n",
    "]\n",
    "\n",
    "\n",
    "# Verificar que las columnas a normalizar existan en el DataFrame antes de normalizar\n",
    "cols_to_normalize = [col for col in cols_to_normalize if col in df.columns]\n",
    "df[cols_to_normalize] = scaler.fit_transform(df[cols_to_normalize])\n",
    "\n",
    "# Seleccionar las características\n",
    "X = df[columnas_seleccionadas].copy()\n",
    "\n",
    "# Codificar las etiquetas de la columna 'label'\n",
    "label_encoder = LabelEncoder()\n",
    "y = label_encoder.fit_transform(df['label'])  # 0, 1 y 2 deben estar en esta columna\n",
    "\n",
    "# ===============================================\n",
    "# 5. División del dataset 70% train / 30% test\n",
    "# ===============================================\n",
    "\n",
    "X_train, X_test, y_train, y_test = train_test_split(X, y, test_size=0.3, random_state=42)\n",
    "\n",
    "\n"
   ]
  },
  {
   "cell_type": "markdown",
   "metadata": {
    "id": "SM4HiHuYbt5T"
   },
   "source": [
    "**MODELO BASICO**"
   ]
  },
  {
   "cell_type": "code",
   "execution_count": null,
   "metadata": {
    "colab": {
     "base_uri": "https://localhost:8080/"
    },
    "executionInfo": {
     "elapsed": 2215,
     "status": "ok",
     "timestamp": 1757466405769,
     "user": {
      "displayName": "Gisselle Barreto",
      "userId": "01486531895219062980"
     },
     "user_tz": 180
    },
    "id": "JRfcIgdmb0pw",
    "outputId": "83a04dd4-0857-4765-fd4e-4493ed3a416a"
   },
   "outputs": [],
   "source": [
    "# ===============================================\n",
    "# 6. Configuración base del modelo\n",
    "# ===============================================\n",
    "\n",
    "from xgboost import XGBClassifier\n",
    "import numpy as np\n",
    "from sklearn.metrics import confusion_matrix\n",
    "\n",
    "# === HIPERPARÁMETROS MANUALES PARA XGBoost ===\n",
    "xgb_model = XGBClassifier(\n",
    "    #objective='multi:softprob',\n",
    "    #num_class=3,\n",
    "    #learning_rate=0.1,\n",
    "    #n_estimators=100,\n",
    "    #max_depth=3,\n",
    "    #subsample=1.0,\n",
    "    #colsample_bytree=1.0,\n",
    "    #use_label_encoder=False,\n",
    "    #eval_metric='mlogloss',\n",
    "    #random_state=42\n",
    "\n",
    "\n",
    "\n",
    "    objective='multi:softprob',\n",
    "    num_class=3,\n",
    "    learning_rate=0.05,\n",
    "    n_estimators=100,\n",
    "    max_depth=3,\n",
    "    subsample=1.0,\n",
    "    colsample_bytree=0.8,\n",
    "    use_label_encoder=False,\n",
    "    eval_metric='mlogloss',\n",
    "    random_state=42\n",
    "\n",
    "\n",
    ")\n",
    "\n",
    "# Entrenar el modelo\n",
    "xgb_model.fit(X_train.values, y_train)\n",
    "\n",
    "# Evaluar en el conjunto de prueba\n",
    "y_pred = xgb_model.predict(X_test.values)\n",
    "\n",
    "# Calcular métricas\n",
    "f1 = f1_score(y_test, y_pred, average='weighted')\n",
    "accuracy = accuracy_score(y_test, y_pred)\n",
    "precision = precision_score(y_test, y_pred, average='weighted')\n",
    "recall = recall_score(y_test, y_pred, average='weighted')\n",
    "conf_matrix = confusion_matrix(y_test, y_pred)\n",
    "\n",
    "\n",
    "# Mostrar métricas\n",
    "print(f'F1 Score: {f1:.4f}')\n",
    "print(f'Accuracy on test set: {accuracy:.4f}')\n",
    "print(f'Precision: {precision:.4f}')\n",
    "print(f'Recall: {recall:.4f}')\n",
    "print('Confusion Matrix:')\n",
    "print(conf_matrix)"
   ]
  },
  {
   "cell_type": "markdown",
   "metadata": {
    "id": "QSZP4G6QiimF"
   },
   "source": [
    "**Búsqueda de Hiperparámetros**"
   ]
  },
  {
   "cell_type": "code",
   "execution_count": null,
   "metadata": {
    "colab": {
     "base_uri": "https://localhost:8080/"
    },
    "collapsed": true,
    "executionInfo": {
     "elapsed": 597839,
     "status": "ok",
     "timestamp": 1748753068692,
     "user": {
      "displayName": "Gisselle Barreto",
      "userId": "01486531895219062980"
     },
     "user_tz": 180
    },
    "id": "n1FI4PSAimf1",
    "outputId": "a5d3b373-dd1e-40dd-eeaf-29baa9932703"
   },
   "outputs": [],
   "source": [
    "# ===============================================\n",
    "# 7. Búsqueda de Hiperparámetros\n",
    "# ===============================================\n",
    "\n",
    "\n",
    "# Definir el modelo base\n",
    "xgb_model = XGBClassifier(\n",
    "    objective='multi:softprob',\n",
    "    num_class=3,\n",
    "    use_label_encoder=False,\n",
    "    eval_metric='mlogloss',\n",
    "    random_state=42\n",
    ")\n",
    "\n",
    "# Hiperparámetros a explorar\n",
    "param_grid = {\n",
    "    'learning_rate': [0.01, 0.05, 0.1],        # Controla la velocidad de aprendizaje\n",
    "    'n_estimators': [100, 300, 500],           # Número total de árboles\n",
    "    'max_depth': [3, 5],                       # Profundidad máxima de cada árbol\n",
    "    'subsample': [0.7, 0.8, 1.0],              # Fracción de muestras usadas por árbol\n",
    "    'colsample_bytree': [0.7, 0.8, 1.0]        # Fracción de características usadas por árbol\n",
    "}\n",
    "\n",
    "\n",
    "# Configurar GridSearchCV\n",
    "grid_search = GridSearchCV(\n",
    "    estimator=xgb_model,\n",
    "    param_grid=param_grid,\n",
    "    scoring='f1_weighted',        # Métrica priorizada: F1 ponderado\n",
    "    cv=5,                         # Validación cruzada estratificada en 5 folds\n",
    "    verbose=2,\n",
    "    n_jobs=-1                     # Usa todos los núcleos disponibles\n",
    ")\n",
    "\n",
    "# Ejecutar la búsqueda\n",
    "grid_search.fit(X.values, y)\n",
    "print(\"Mejores Hiperparámetros:\", grid_search.best_params_)"
   ]
  },
  {
   "cell_type": "markdown",
   "metadata": {
    "id": "nnPOyGvBjB1f"
   },
   "source": [
    "**Evaluación con Validación Cruzada**"
   ]
  },
  {
   "cell_type": "code",
   "execution_count": null,
   "metadata": {
    "colab": {
     "base_uri": "https://localhost:8080/"
    },
    "executionInfo": {
     "elapsed": 19775,
     "status": "ok",
     "timestamp": 1748753778653,
     "user": {
      "displayName": "Gisselle Barreto",
      "userId": "01486531895219062980"
     },
     "user_tz": 180
    },
    "id": "dH0p614FjFjo",
    "outputId": "cf7311d2-82cc-4477-b660-04168ea9d11f"
   },
   "outputs": [],
   "source": [
    "# ===============================================\n",
    "# 8. Validacion cruzada\n",
    "# ===============================================\n",
    "\n",
    "\n",
    "from sklearn.model_selection import cross_validate\n",
    "\n",
    "# Configurar el modelo con los mejores hiperparámetros\n",
    "#best_params = grid_search.best_params_\n",
    "#best_params = [colsample_bytree': 0.8, 'learning_rate': 0.01, 'max_depth': 7, 'n_estimators': 500, 'subsample': 0.7]\n",
    "xgb_model = xgb.XGBClassifier(\n",
    "    colsample_bytree= 0.8,\n",
    "    learning_rate =0.01,\n",
    "    max_depth= 7, n_estimators=500,\n",
    "    subsample= 0.7,\n",
    "    objective='multi:softmax',\n",
    "    num_class=3,\n",
    "    random_state=42\n",
    ")\n",
    "\n",
    "# Validación cruzada\n",
    "cv_results = cross_validate(\n",
    "    xgb_model, X.values, y, cv=5,\n",
    "    scoring=['accuracy', 'precision_weighted', 'recall_weighted', 'f1_weighted']\n",
    ")\n",
    "\n",
    "# Resultados promedio\n",
    "for metric in ['accuracy', 'precision_weighted', 'recall_weighted', 'f1_weighted']:\n",
    "    print(f\"{metric.capitalize()}: {cv_results['test_' + metric].mean():.4f}\")"
   ]
  },
  {
   "cell_type": "markdown",
   "metadata": {
    "id": "cbOcJEl_VMDW"
   },
   "source": [
    "**Importancia de caracteristicas**"
   ]
  },
  {
   "cell_type": "code",
   "execution_count": null,
   "metadata": {
    "colab": {
     "base_uri": "https://localhost:8080/",
     "height": 918
    },
    "executionInfo": {
     "elapsed": 3465,
     "status": "ok",
     "timestamp": 1748753921640,
     "user": {
      "displayName": "Gisselle Barreto",
      "userId": "01486531895219062980"
     },
     "user_tz": 180
    },
    "id": "sF2uKtPKZL00",
    "outputId": "dc628384-014a-4be9-eeb0-189b3bd52215"
   },
   "outputs": [],
   "source": [
    "# ===============================================\n",
    "# 10. Importancia de características acumulada\n",
    "# ===============================================\n",
    "import matplotlib.pyplot as plt\n",
    "import seaborn as sns\n",
    "import pandas as pd\n",
    "import xgboost as xgb\n",
    "import numpy as np # Import numpy for .values conversion\n",
    "\n",
    "# Ensure X and y are available from previous steps\n",
    "if 'X' not in locals() or 'y' not in locals():\n",
    "     print(\"Error: X or y is not defined. Please run the data loading and splitting cells first.\")\n",
    "else:\n",
    "    # Define and train the model with the best parameters\n",
    "    # Using parameters from the cross-validation step (cell dH0p614FjFjo)\n",
    "    xgb_model = xgb.XGBClassifier(\n",
    "        colsample_bytree= 0.8,\n",
    "        learning_rate =0.01,\n",
    "        max_depth= 7,\n",
    "        n_estimators=500,\n",
    "        subsample= 0.7,\n",
    "        objective='multi:softmax',\n",
    "        num_class=3,\n",
    "        random_state=42\n",
    "    )\n",
    "\n",
    "    # Train the model\n",
    "    # Convert X and y to numpy arrays for fitting\n",
    "    xgb_model.fit(X.values, y)\n",
    "\n",
    "    # Calculate feature importances\n",
    "    try:\n",
    "        importances = xgb_model.feature_importances_\n",
    "    except xgb.core.XGBoostError as e:\n",
    "        print(f\"Error getting feature importances: {e}\")\n",
    "        print(\"This might happen if the model was not trained successfully.\")\n",
    "        importances = None\n",
    "\n",
    "\n",
    "    if importances is not None and len(importances) == X.shape[1]:\n",
    "        # Create a DataFrame to order the characteristics\n",
    "        # Ensure X is a pandas DataFrame or use feature names from X if it's a DataFrame\n",
    "        if isinstance(X, pd.DataFrame):\n",
    "             feature_names = X.columns.tolist()\n",
    "        else:\n",
    "             feature_names = [f'Feature_{i}' for i in range(X.shape[1])]\n",
    "\n",
    "\n",
    "        feature_importances = pd.DataFrame({\n",
    "            'Feature': feature_names,\n",
    "            'Importance': importances\n",
    "        }).sort_values(by='Importance', ascending=False)\n",
    "\n",
    "        print(\"Feature Importances:\")\n",
    "        print(feature_importances)\n",
    "\n",
    "        # Configurar el estilo del gráfico\n",
    "        plt.figure(figsize=(10, 6))  # Ajustar el tamaño del gráfico\n",
    "        sns.barplot(x='Importance', y='Feature', data=feature_importances, color='steelblue')\n",
    "\n",
    "        # Agregar etiquetas y título\n",
    "        plt.xlabel('Importancia')\n",
    "        plt.ylabel('Característica')\n",
    "        plt.title('Importancia de Características en XGBoost')\n",
    "\n",
    "        # Mostrar el gráfico\n",
    "        plt.tight_layout()\n",
    "        plt.show()\n",
    "    elif importances is not None:\n",
    "         print(f\"Error: Mismatch between number of features ({X.shape[1]}) and importances ({len(importances)}).\")\n",
    "    else:\n",
    "        print(\"Feature importances could not be calculated.\")"
   ]
  }
 ],
 "metadata": {
  "colab": {
   "provenance": []
  },
  "kernelspec": {
   "display_name": "Python 3",
   "name": "python3"
  },
  "language_info": {
   "name": "python"
  }
 },
 "nbformat": 4,
 "nbformat_minor": 0
}
