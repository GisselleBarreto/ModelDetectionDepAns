{
 "cells": [
  {
   "cell_type": "code",
   "execution_count": null,
   "metadata": {
    "colab": {
     "base_uri": "https://localhost:8080/"
    },
    "executionInfo": {
     "elapsed": 83492,
     "status": "ok",
     "timestamp": 1749773522599,
     "user": {
      "displayName": "Kathia Garcia",
      "userId": "03947002799544824998"
     },
     "user_tz": 180
    },
    "id": "vqZdxlakTlOH",
    "outputId": "6a98e93c-3436-439f-adf5-114b167efc63"
   },
   "outputs": [],
   "source": [
    "## Montar google drive\n",
    "from google.colab import drive\n",
    "drive.mount('/content/drive')"
   ]
  },
  {
   "cell_type": "code",
   "execution_count": null,
   "metadata": {
    "executionInfo": {
     "elapsed": 3424,
     "status": "ok",
     "timestamp": 1749773549381,
     "user": {
      "displayName": "Kathia Garcia",
      "userId": "03947002799544824998"
     },
     "user_tz": 180
    },
    "id": "TKuQ45_kVCUT"
   },
   "outputs": [],
   "source": [
    "# Cargar el archivo desde Google Drive\n",
    "import pandas as pd\n",
    "\n",
    "# Especifica la ruta completa del archivo en tu Google Drive\n",
    "file_path = 'linkXlsx'\n",
    "\n",
    "\n",
    "# Cargar el archivo Excel en un DataFrame\n",
    "df = pd.read_excel(file_path)"
   ]
  },
  {
   "cell_type": "code",
   "execution_count": null,
   "metadata": {
    "id": "azj1TFF9T1K6"
   },
   "outputs": [],
   "source": [
    "from sklearn.preprocessing import LabelEncoder, MinMaxScaler\n",
    "from sklearn.model_selection import train_test_split\n",
    "\n",
    "# Codificar la columna 'sentiment' en valores numéricos\n",
    "label_encoder_sentiment = LabelEncoder()\n",
    "df['sentiment_numeric'] = label_encoder_sentiment.fit_transform(df['sentiment'])\n",
    "\n",
    "\n",
    "# Seleccionar características específicas\n",
    "columnas_seleccionadas = [\n",
    "    'POS','NEU','NEG',\n",
    "    'toxicity',\n",
    "    'tristeza' ,'miedo','enojo','disgusto', 'sorpresa',\n",
    "    'negaciones',\n",
    "    'pensamientos suicidas',\n",
    "    'baja autoestima',\n",
    "]\n",
    "\n",
    "# Normalizar solo las columnas numéricas específicas\n",
    "scaler = MinMaxScaler()\n",
    "cols_to_normalize = [\n",
    "    'num_palabras_largas','negaciones','num_palabras_mayusculas',\n",
    "   'num_palabras_primera_mayuscula', 'num_signos_puntuacion',\n",
    "\n",
    "]\n",
    "\n",
    "# Verificar que las columnas a normalizar existan en el DataFrame antes de normalizar\n",
    "cols_to_normalize = [col for col in cols_to_normalize if col in df.columns]\n",
    "df[cols_to_normalize] = scaler.fit_transform(df[cols_to_normalize])\n",
    "\n",
    "# Seleccionar las características\n",
    "X = df[columnas_seleccionadas].copy()\n",
    "\n",
    "# Codificar las etiquetas de la columna 'label'\n",
    "label_encoder = LabelEncoder()\n",
    "y = label_encoder.fit_transform(df['label'])  # 0, 1 y 2 deben estar en esta columna\n",
    "\n",
    "# Dividir los datos en conjunto de entrenamiento y prueba\n",
    "X_train, X_test, y_train, y_test = train_test_split(X, y, test_size=0.3, random_state=42)\n",
    "\n",
    "\n"
   ]
  },
  {
   "cell_type": "markdown",
   "metadata": {
    "id": "6Qg3YBi-Qtxk"
   },
   "source": [
    "Nuevo\n"
   ]
  },
  {
   "cell_type": "code",
   "execution_count": null,
   "metadata": {
    "colab": {
     "base_uri": "https://localhost:8080/"
    },
    "executionInfo": {
     "elapsed": 41,
     "status": "ok",
     "timestamp": 1748828181209,
     "user": {
      "displayName": "Kathia Garcia",
      "userId": "03947002799544824998"
     },
     "user_tz": 180
    },
    "id": "DsZiuY-bQvXf",
    "outputId": "d11dd8b8-90fb-44fb-e173-8fb946111f74"
   },
   "outputs": [],
   "source": [
    "from sklearn.svm import SVC\n",
    "from sklearn.pipeline import make_pipeline\n",
    "from sklearn.preprocessing import StandardScaler\n",
    "from sklearn.metrics import classification_report, accuracy_score, precision_score, recall_score, f1_score\n",
    "\n",
    "# Crear y entrenar el modelo SVM con escalado y balanceo interno\n",
    "svm_model = make_pipeline(\n",
    "    StandardScaler(),\n",
    "    SVC(kernel='linear', class_weight='balanced', random_state=42)\n",
    ")\n",
    "\n",
    "\n",
    "\n",
    "svm_model.fit(X_train, y_train)\n",
    "y_pred = svm_model.predict(X_test)\n",
    "\n",
    "# Evaluación\n",
    "accuracy = accuracy_score(y_test, y_pred)\n",
    "precision = precision_score(y_test, y_pred, average='weighted')\n",
    "recall = recall_score(y_test, y_pred, average='weighted')\n",
    "f1 = f1_score(y_test, y_pred, average='weighted')\n",
    "\n",
    "print(f\"Accuracy: {accuracy:.4f}\")\n",
    "print(f\"Precision: {precision:.4f}\")\n",
    "print(f\"Recall: {recall:.4f}\")\n",
    "print(f\"F1 Score: {f1:.4f}\")\n",
    "\n",
    "# Reporte por clase\n",
    "print(\"\\nReporte por clase:\")\n",
    "print(classification_report(y_test, y_pred, target_names=[str(cls) for cls in label_encoder.classes_]))\n"
   ]
  },
  {
   "cell_type": "markdown",
   "metadata": {
    "id": "vLcE9dKk_Z7X"
   },
   "source": [
    "**Mejores hiperparametros**"
   ]
  },
  {
   "cell_type": "code",
   "execution_count": null,
   "metadata": {
    "colab": {
     "base_uri": "https://localhost:8080/"
    },
    "executionInfo": {
     "elapsed": 4386,
     "status": "ok",
     "timestamp": 1748825766296,
     "user": {
      "displayName": "Kathia Garcia",
      "userId": "03947002799544824998"
     },
     "user_tz": 180
    },
    "id": "yFmBlZ30_c25",
    "outputId": "b3e358c3-077b-4127-a4fc-4940fa2fc23e"
   },
   "outputs": [],
   "source": [
    "from sklearn.model_selection import GridSearchCV\n",
    "from sklearn.svm import SVC\n",
    "from sklearn.pipeline import make_pipeline\n",
    "from sklearn.preprocessing import StandardScaler\n",
    "from sklearn.metrics import accuracy_score, precision_score, recall_score, f1_score\n",
    "\n",
    "# Pipeline: escalado + SVM\n",
    "pipeline = make_pipeline(\n",
    "    StandardScaler(),\n",
    "    SVC(class_weight='balanced', random_state=42)\n",
    ")\n",
    "\n",
    "# Grid de hiperparámetros\n",
    "param_grid = {\n",
    "    'svc__C': [1, 10],\n",
    "    'svc__kernel': ['linear', 'rbf', 'poly', 'sigmoid'],\n",
    "    'svc__gamma': ['scale', 'auto']\n",
    "}\n",
    "\n",
    "# Configurar GridSearchCV\n",
    "grid_search = GridSearchCV(\n",
    "    estimator=pipeline,\n",
    "    param_grid=param_grid,\n",
    "    cv=5,\n",
    "    scoring='f1_weighted',\n",
    "    verbose=1,\n",
    "    n_jobs=-1\n",
    ")\n",
    "\n",
    "# Entrenar el modelo\n",
    "grid_search.fit(X_train, y_train)\n",
    "\n",
    "# Mejor estimador\n",
    "best_model = grid_search.best_estimator_\n",
    "\n",
    "# Predicciones\n",
    "y_pred = best_model.predict(X_test)\n",
    "\n",
    "# Métricas\n",
    "accuracy = accuracy_score(y_test, y_pred)\n",
    "precision = precision_score(y_test, y_pred, average='weighted')\n",
    "recall = recall_score(y_test, y_pred, average='weighted')\n",
    "f1 = f1_score(y_test, y_pred, average='weighted')\n",
    "\n",
    "# Resultados\n",
    "print(\"✅ Mejores hiperparámetros encontrados:\", grid_search.best_params_)\n",
    "print(\"🔍 Métricas en el conjunto de prueba:\")\n",
    "print(f\"Accuracy: {accuracy:.4f}\")\n",
    "print(f\"Precision: {precision:.4f}\")\n",
    "print(f\"Recall: {recall:.4f}\")\n",
    "print(f\"F1 Score: {f1:.4f}\")\n"
   ]
  },
  {
   "cell_type": "markdown",
   "metadata": {
    "id": "0zS3R8XYBPQO"
   },
   "source": [
    "**Validacion cruzada**"
   ]
  },
  {
   "cell_type": "code",
   "execution_count": null,
   "metadata": {
    "colab": {
     "base_uri": "https://localhost:8080/"
    },
    "executionInfo": {
     "elapsed": 7608,
     "status": "ok",
     "timestamp": 1748726367699,
     "user": {
      "displayName": "Kathia Garcia",
      "userId": "03947002799544824998"
     },
     "user_tz": 180
    },
    "id": "reD-mNQ1Ag6k",
    "outputId": "1cd18a8a-a1f6-44da-87b0-62d140d83b5d"
   },
   "outputs": [],
   "source": [
    "from sklearn.model_selection import cross_validate\n",
    "from sklearn.svm import SVC\n",
    "\n",
    "# Inicializar el modelo SVM con los mejores parámetros\n",
    "svm_best = SVC(C=100, kernel='linear', gamma='scale')\n",
    "\n",
    "# Configurar métricas para la validación cruzada\n",
    "scoring_metrics = ['accuracy', 'precision_weighted', 'recall_weighted', 'f1_weighted']\n",
    "\n",
    "# Realizar validación cruzada con múltiples métricas\n",
    "cv_results = cross_validate(svm_best, X_train, y_train, cv=5, scoring=scoring_metrics, return_train_score=False, n_jobs=-1)\n",
    "\n",
    "# Calcular promedios y desviaciones estándar\n",
    "mean_accuracy = cv_results['test_accuracy'].mean()\n",
    "std_accuracy = cv_results['test_accuracy'].std()\n",
    "mean_precision = cv_results['test_precision_weighted'].mean()\n",
    "std_precision = cv_results['test_precision_weighted'].std()\n",
    "mean_recall = cv_results['test_recall_weighted'].mean()\n",
    "std_recall = cv_results['test_recall_weighted'].std()\n",
    "mean_f1 = cv_results['test_f1_weighted'].mean()\n",
    "std_f1 = cv_results['test_f1_weighted'].std()\n",
    "\n",
    "# Mostrar resultados\n",
    "print(\"Resultados de Validación Cruzada con los Mejores Hiperparámetros:\")\n",
    "print(f\"Accuracy Promedio: {mean_accuracy:.4f} ± {std_accuracy:.4f}\")\n",
    "print(f\"Precision Promedio: {mean_precision:.4f} ± {std_precision:.4f}\")\n",
    "print(f\"Recall Promedio: {mean_recall:.4f} ± {std_recall:.4f}\")\n",
    "print(f\"F1 Score Promedio: {mean_f1:.4f} ± {std_f1:.4f}\")\n"
   ]
  },
  {
   "cell_type": "code",
   "execution_count": null,
   "metadata": {
    "colab": {
     "base_uri": "https://localhost:8080/",
     "height": 607
    },
    "executionInfo": {
     "elapsed": 229,
     "status": "ok",
     "timestamp": 1748826806397,
     "user": {
      "displayName": "Kathia Garcia",
      "userId": "03947002799544824998"
     },
     "user_tz": 180
    },
    "id": "siP_k_ugonFv",
    "outputId": "a847276f-93b5-4d66-f5b9-c1da1c0250d7"
   },
   "outputs": [],
   "source": [
    "#importancia de caracteristicas\n",
    "import numpy as np\n",
    "import matplotlib.pyplot as plt\n",
    "import pandas as pd\n",
    "from sklearn.svm import SVC\n",
    "\n",
    "# Supongamos que ya tienes X_train y y_train\n",
    "# Asegúrate de usar un kernel lineal\n",
    "svm_model = SVC(kernel='linear')\n",
    "svm_model.fit(X_train, y_train)\n",
    "\n",
    "# Extraer los coeficientes del modelo SVM lineal\n",
    "# (Solo funciona si usas kernel='linear')\n",
    "importancia = np.abs(svm_model.coef_[0])  # Tomamos el valor absoluto de los coeficientes\n",
    "\n",
    "# Crear un DataFrame para las características y sus importancias\n",
    "df_importancia = pd.DataFrame({\n",
    "    'Característica': X_train.columns,\n",
    "    'Importancia': importancia\n",
    "})\n",
    "\n",
    "# Ordenar las características por importancia\n",
    "df_importancia = df_importancia.sort_values(by='Importancia', ascending=False)\n",
    "\n",
    "# Graficar las importancias\n",
    "plt.figure(figsize=(10, 6))\n",
    "plt.barh(df_importancia['Característica'], df_importancia['Importancia'], color='skyblue')\n",
    "plt.xlabel('Importancia', fontsize=12)\n",
    "plt.ylabel('Característica', fontsize=12)\n",
    "plt.title('Importancia de Características en SVM (Kernel Lineal)', fontsize=14)\n",
    "plt.gca().invert_yaxis()  # Para mostrar las más importantes arriba\n",
    "plt.tight_layout()\n",
    "plt.show()"
   ]
  },
  {
   "cell_type": "code",
   "execution_count": null,
   "metadata": {
    "colab": {
     "base_uri": "https://localhost:8080/"
    },
    "executionInfo": {
     "elapsed": 939,
     "status": "ok",
     "timestamp": 1748827337953,
     "user": {
      "displayName": "Kathia Garcia",
      "userId": "03947002799544824998"
     },
     "user_tz": 180
    },
    "id": "qyL_KO0sO2G4",
    "outputId": "89881d93-e3fa-4a31-8a2b-6dff643eee6a"
   },
   "outputs": [],
   "source": [
    "from sklearn.svm import SVC\n",
    "from sklearn.pipeline import make_pipeline\n",
    "from sklearn.preprocessing import StandardScaler\n",
    "from sklearn.metrics import accuracy_score, precision_score, recall_score, f1_score\n",
    "import pandas as pd\n",
    "\n",
    "# Combinaciones manuales a probar\n",
    "combinaciones_svm = [\n",
    "    {'kernel': 'rbf', 'C': 1, 'gamma': 'scale'},\n",
    "    {'kernel': 'rbf', 'C': 10, 'gamma': 'scale'},\n",
    "    {'kernel': 'linear', 'C': 1, 'gamma': 'scale'},\n",
    "    {'kernel': 'poly', 'C': 1, 'gamma': 'scale'},\n",
    "    {'kernel': 'sigmoid', 'C': 1, 'gamma': 'auto'},\n",
    "    {'kernel': 'rbf', 'C': 0.1, 'gamma': 'scale'},\n",
    "    {'kernel': 'linear', 'C': 10, 'gamma': 'scale'}\n",
    "]\n",
    "\n",
    "# Almacenar resultados\n",
    "resultados = []\n",
    "\n",
    "# Ejecutar pruebas para cada configuración\n",
    "for i, config in enumerate(combinaciones_svm, start=1):\n",
    "    print(f\"\\n🔍 Evaluando combinación #{i}: {config}\")\n",
    "\n",
    "    pipeline = make_pipeline(\n",
    "        StandardScaler(),\n",
    "        SVC(kernel=config['kernel'],\n",
    "            C=config['C'],\n",
    "            gamma=config['gamma'],\n",
    "            class_weight='balanced',\n",
    "            random_state=42)\n",
    "    )\n",
    "\n",
    "    pipeline.fit(X_train, y_train)\n",
    "    y_pred = pipeline.predict(X_test)\n",
    "\n",
    "    acc = accuracy_score(y_test, y_pred)\n",
    "    prec = precision_score(y_test, y_pred, average='weighted')\n",
    "    rec = recall_score(y_test, y_pred, average='weighted')\n",
    "    f1 = f1_score(y_test, y_pred, average='weighted')\n",
    "\n",
    "    print(f\"📊 Accuracy: {acc:.4f} | Precision: {prec:.4f} | Recall: {rec:.4f} | F1: {f1:.4f}\")\n",
    "\n",
    "    resultados.append({\n",
    "        'Combinación': i,\n",
    "        'Kernel': config['kernel'],\n",
    "        'C': config['C'],\n",
    "        'Gamma': config['gamma'],\n",
    "        'Accuracy': round(acc, 4),\n",
    "        'Precision': round(prec, 4),\n",
    "        'Recall': round(rec, 4),\n",
    "        'F1 Score': round(f1, 4)\n",
    "    })\n",
    "\n",
    "# Mostrar como tabla\n",
    "df_resultados_svm = pd.DataFrame(resultados)\n",
    "print(\"\\n📋 Resultados generales:\")\n",
    "print(df_resultados_svm)\n"
   ]
  }
 ],
 "metadata": {
  "colab": {
   "provenance": []
  },
  "kernelspec": {
   "display_name": "Python 3",
   "name": "python3"
  },
  "language_info": {
   "name": "python"
  }
 },
 "nbformat": 4,
 "nbformat_minor": 0
}
