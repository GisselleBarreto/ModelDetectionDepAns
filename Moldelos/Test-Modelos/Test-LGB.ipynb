{
 "cells": [
  {
   "cell_type": "code",
   "execution_count": null,
   "metadata": {
    "colab": {
     "base_uri": "https://localhost:8080/"
    },
    "executionInfo": {
     "elapsed": 41491,
     "status": "ok",
     "timestamp": 1747518717502,
     "user": {
      "displayName": "Kathia Garcia",
      "userId": "03947002799544824998"
     },
     "user_tz": 180
    },
    "id": "8Xn5rhAPmSj9",
    "outputId": "8203763b-8698-47f2-fe04-498a2a052c5c"
   },
   "outputs": [],
   "source": [
    "## Montar google drive\n",
    "from google.colab import drive\n",
    "drive.mount('/content/drive')\n"
   ]
  },
  {
   "cell_type": "code",
   "execution_count": null,
   "metadata": {
    "executionInfo": {
     "elapsed": 4283,
     "status": "ok",
     "timestamp": 1747518724378,
     "user": {
      "displayName": "Kathia Garcia",
      "userId": "03947002799544824998"
     },
     "user_tz": 180
    },
    "id": "jfZOWQD9nCCJ"
   },
   "outputs": [],
   "source": [
    "# Cargar el archivo desde Google Drive\n",
    "import pandas as pd\n",
    "# Cargar datos de entrenamiento y prueba\n",
    "df_train = pd.read_excel(\"linkXlsx\")\n",
    "df_test = pd.read_excel(\"linkXlsx\")\n",
    "\n"
   ]
  },
  {
   "cell_type": "code",
   "execution_count": null,
   "metadata": {
    "colab": {
     "base_uri": "https://localhost:8080/"
    },
    "executionInfo": {
     "elapsed": 147,
     "status": "ok",
     "timestamp": 1747519318772,
     "user": {
      "displayName": "Kathia Garcia",
      "userId": "03947002799544824998"
     },
     "user_tz": 180
    },
    "id": "_OJrnqnpoaSQ",
    "outputId": "42c3a29a-5f3b-47f5-dabd-e5204a684ecb"
   },
   "outputs": [],
   "source": [
    "import pandas as pd\n",
    "from lightgbm import LGBMClassifier\n",
    "from imblearn.over_sampling import SMOTE\n",
    "from sklearn.model_selection import train_test_split\n",
    "from sklearn.preprocessing import LabelEncoder, MinMaxScaler\n",
    "from sklearn.metrics import (\n",
    "    accuracy_score, precision_score, recall_score, f1_score,\n",
    "    balanced_accuracy_score, classification_report\n",
    ")\n",
    "import joblib\n",
    "\n",
    "# === PREPROCESAMIENTO ===\n",
    "label_encoder = LabelEncoder()\n",
    "scaler = MinMaxScaler()\n",
    "\n",
    "# Selección de características\n",
    "columnas_seleccionadas = [\n",
    "    'POS', 'NEU', 'NEG', 'tristeza', 'miedo', 'disgusto', 'enojo', 'sorpresa', 'alegria',\n",
    "     'toxicity',\n",
    "    'me', 'mi', 'yo',\n",
    "    'num_palabras_mayusculas',\n",
    "    'num_palabras_largas',\n",
    "    'negaciones',\n",
    "    'falta de motivacion',\n",
    "   'aislamiento social',\n",
    "    'pensamientos suicidas',\n",
    "\n",
    "]\n",
    "\n",
    "X_train = df_train[columnas_seleccionadas].copy()\n",
    "X_train[['num_palabras_mayusculas', 'num_palabras_largas', 'negaciones']] = scaler.fit_transform(\n",
    "    X_train[['num_palabras_mayusculas', 'num_palabras_largas', 'negaciones']]\n",
    ")\n",
    "\n",
    "y_train = label_encoder.fit_transform(df_train['label'])\n",
    "\n",
    "\n",
    "# === SPLIT VALIDACIÓN ===\n",
    "X_train_split, X_val_split, y_train_split, y_val_split = train_test_split(\n",
    "    X_train, y_train, test_size=0.3, random_state=42\n",
    ")\n",
    "\n",
    "\n",
    "modelo_manual = LGBMClassifier(\n",
    "    objective='multiclass',\n",
    "    num_class=3,\n",
    "    boosting_type='gbdt',\n",
    "    n_estimators=100,\n",
    "    num_leaves=31,\n",
    "    learning_rate=0.05,\n",
    "    feature_fraction=0.7,\n",
    "    verbosity=-1,\n",
    "    random_state=42\n",
    ")\n",
    "# === ENTRENAMIENTO ===\n",
    "modelo_manual.fit(X_train_split, y_train_split)\n",
    "\n",
    "# === PREDICCIÓN Y EVALUACIÓN ===\n",
    "y_val_pred = modelo_manual.predict(X_val_split)\n",
    "\n",
    "accuracy = accuracy_score(y_val_split, y_val_pred)\n",
    "precision = precision_score(y_val_split, y_val_pred, average='weighted')\n",
    "recall = recall_score(y_val_split, y_val_pred, average='weighted')\n",
    "f1 = f1_score(y_val_split, y_val_pred, average='weighted')\n",
    "balanced_accuracy = balanced_accuracy_score(y_val_split, y_val_pred)\n",
    "\n",
    "# === RESULTADOS ===\n",
    "print(\"\\nResultados del modelo con hiperparámetros manuales:\")\n",
    "print(f\"Accuracy: {accuracy:.4f}\")\n",
    "print(f\"Precision: {precision:.4f}\")\n",
    "print(f\"Recall: {recall:.4f}\")\n",
    "print(f\"F1 Score: {f1:.4f}\")\n",
    "print(f\"Balanced Accuracy: {balanced_accuracy:.4f}\")\n",
    "print(\"\\nReporte de Clasificación:\")\n",
    "print(classification_report(y_val_split, y_val_pred,target_names=[\"control\", \"depresion\", \"ansiedad\"]))\n",
    "\n",
    "\n",
    "\n",
    "# === GUARDAR MODELO Y TRANSFORMADORES ===\n",
    "joblib.dump(modelo_manual, 'lgbm_model.pkl')\n",
    "joblib.dump(scaler, 'scaler.pkl')\n",
    "joblib.dump(label_encoder, 'label_encoder.pkl')\n",
    "joblib.dump(columnas_seleccionadas, 'columnas_seleccionadas.pkl')\n",
    "joblib.dump(label_encoder.classes_, 'clases_modelo.pkl')\n",
    "\n",
    "print(\"\\nModelo con hiperparámetros definidos manualmente guardado exitosamente.\")\n"
   ]
  },
  {
   "cell_type": "code",
   "execution_count": null,
   "metadata": {
    "colab": {
     "base_uri": "https://localhost:8080/"
    },
    "executionInfo": {
     "elapsed": 129,
     "status": "ok",
     "timestamp": 1747519325618,
     "user": {
      "displayName": "Kathia Garcia",
      "userId": "03947002799544824998"
     },
     "user_tz": 180
    },
    "id": "W-k2FlR12b8E",
    "outputId": "325edc34-dc85-44aa-cd0e-f41b3cd978a2"
   },
   "outputs": [],
   "source": [
    "import pandas as pd\n",
    "import joblib\n",
    "from sklearn.metrics import (\n",
    "    accuracy_score, precision_score, recall_score, f1_score, balanced_accuracy_score, classification_report\n",
    ")\n",
    "\n",
    "# Cargar el modelo y preprocesadores guardados\n",
    "modelo_optimizado = joblib.load('lgbm_model.pkl')\n",
    "scaler = joblib.load('scaler.pkl')\n",
    "label_encoder = joblib.load('label_encoder.pkl')\n",
    "columnas_seleccionadas = joblib.load('columnas_seleccionadas.pkl')\n",
    "\n",
    "# Preprocesamiento del conjunto de prueba\n",
    "X_test = df_test[columnas_seleccionadas].copy()\n",
    "\n",
    "# Escalar las columnas numéricas\n",
    "X_test.loc[:, ['num_palabras_mayusculas', 'num_palabras_largas', 'negaciones']] = scaler.transform(\n",
    "    X_test[['num_palabras_mayusculas', 'num_palabras_largas', 'negaciones']]\n",
    ")\n",
    "\n",
    "# Codificar las etiquetas del conjunto de prueba\n",
    "y_test = label_encoder.transform(df_test['label'])\n",
    "\n",
    "# Hacer predicciones en el conjunto de prueba\n",
    "y_pred = modelo_optimizado.predict(X_test)\n",
    "\n",
    "# Calcular métricas\n",
    "accuracy = accuracy_score(y_test, y_pred)\n",
    "precision = precision_score(y_test, y_pred, average='weighted')\n",
    "recall = recall_score(y_test, y_pred, average='weighted')\n",
    "f1 = f1_score(y_test, y_pred, average='weighted')\n",
    "balanced_accuracy = balanced_accuracy_score(y_test, y_pred)\n",
    "\n",
    "# Imprimir métricas\n",
    "print(\"\\nResultados en el conjunto de prueba:\")\n",
    "print(f\"Accuracy: {accuracy:.4f}\")\n",
    "print(f\"Precision: {precision:.4f}\")\n",
    "print(f\"Recall: {recall:.4f}\")\n",
    "print(f\"F1 Score: {f1:.4f}\")\n",
    "print(f\"Balanced Accuracy: {balanced_accuracy:.4f}\")\n",
    "\n",
    "# Reporte de clasificación detallado\n",
    "print(\"\\nReporte de Clasificación:\")\n",
    "print(classification_report(y_test, y_pred))\n"
   ]
  }
 ],
 "metadata": {
  "colab": {
   "authorship_tag": "ABX9TyM287ZieYCurTD+pW+1AF2Q",
   "provenance": []
  },
  "kernelspec": {
   "display_name": "Python 3",
   "name": "python3"
  },
  "language_info": {
   "name": "python"
  }
 },
 "nbformat": 4,
 "nbformat_minor": 0
}
