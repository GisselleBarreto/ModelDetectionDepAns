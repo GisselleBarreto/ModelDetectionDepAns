{
 "cells": [
  {
   "cell_type": "code",
   "execution_count": null,
   "metadata": {
    "colab": {
     "base_uri": "https://localhost:8080/"
    },
    "executionInfo": {
     "elapsed": 24154,
     "status": "ok",
     "timestamp": 1758236501346,
     "user": {
      "displayName": "Kathia Garcia",
      "userId": "03947002799544824998"
     },
     "user_tz": 180
    },
    "id": "hVJJAFAH_OBQ",
    "outputId": "a5d69ffd-61f7-4b0a-e4bb-13f3e0746e1c"
   },
   "outputs": [],
   "source": [
    "!pip install scikit-learn\n",
    "import numpy as np\n",
    "import pandas as pd\n",
    "from sklearn.model_selection import train_test_split\n",
    "from sklearn.ensemble import GradientBoostingClassifier\n",
    "from sklearn.metrics import accuracy_score\n"
   ]
  },
  {
   "cell_type": "code",
   "execution_count": null,
   "metadata": {
    "colab": {
     "base_uri": "https://localhost:8080/"
    },
    "executionInfo": {
     "elapsed": 23331,
     "status": "ok",
     "timestamp": 1758236548018,
     "user": {
      "displayName": "Kathia Garcia",
      "userId": "03947002799544824998"
     },
     "user_tz": 180
    },
    "id": "sPy_Hl7p_Qxv",
    "outputId": "cb76f40a-522f-4941-a324-35a5daeb274f"
   },
   "outputs": [],
   "source": [
    "# === Montar google drive ===\n",
    "from google.colab import drive\n",
    "drive.mount('/content/drive')"
   ]
  },
  {
   "cell_type": "code",
   "execution_count": null,
   "metadata": {
    "executionInfo": {
     "elapsed": 2544,
     "status": "ok",
     "timestamp": 1758236574530,
     "user": {
      "displayName": "Kathia Garcia",
      "userId": "03947002799544824998"
     },
     "user_tz": 180
    },
    "id": "W84FNQQ8EDJv"
   },
   "outputs": [],
   "source": [
    "# Cargar datos de entrenamiento y prueba\n",
    "df_train = pd.read_excel(\"LinkXlsx\")\n",
    "df_test = pd.read_excel(\"LinkXlsx\")"
   ]
  },
  {
   "cell_type": "markdown",
   "metadata": {
    "id": "yvqXjUUr_-jv"
   },
   "source": [
    "**Entrenar el modelo**"
   ]
  },
  {
   "cell_type": "code",
   "execution_count": null,
   "metadata": {
    "colab": {
     "base_uri": "https://localhost:8080/"
    },
    "executionInfo": {
     "elapsed": 1485,
     "status": "ok",
     "timestamp": 1758236811050,
     "user": {
      "displayName": "Kathia Garcia",
      "userId": "03947002799544824998"
     },
     "user_tz": 180
    },
    "id": "VXDuwxb2ADKG",
    "outputId": "6ebc2641-3d79-4002-e2cd-8a1fa5094789"
   },
   "outputs": [],
   "source": [
    "import pandas as pd\n",
    "from sklearn.ensemble import GradientBoostingClassifier\n",
    "from imblearn.over_sampling import SMOTE\n",
    "from sklearn.model_selection import train_test_split\n",
    "from sklearn.preprocessing import LabelEncoder, MinMaxScaler\n",
    "from sklearn.metrics import (\n",
    "    accuracy_score, precision_score, recall_score, f1_score,\n",
    "    balanced_accuracy_score, classification_report\n",
    ")\n",
    "import joblib\n",
    "\n",
    "# === PREPROCESAMIENTO ===\n",
    "label_encoder = LabelEncoder()\n",
    "scaler = MinMaxScaler()\n",
    "\n",
    "# === Selección de características ===\n",
    "columnas_seleccionadas = [\n",
    "    'toxicity',\n",
    "\n",
    "    'POS','NEU','NEG',\n",
    "\n",
    "    'alegria', 'tristeza' ,'miedo','disgusto','enojo', 'sorpresa',\n",
    "\n",
    "    'yo', 'me', 'mi', 'mí',\n",
    "\n",
    "    'num_palabras_largas',\n",
    "    #'num_signos_puntuacion'\n",
    "    #'num_palabras_mayusculas',\n",
    "    #'num_palabras_primera_mayuscula',\n",
    "    'negaciones',\n",
    "\n",
    "    #'hora'\n",
    "\n",
    "    #'Medicamento_ansiedad','Medicamento_depresion',\n",
    "\n",
    "    'falta de motivacion',\n",
    "    'aislamiento social',\n",
    "    'pensamientos suicidas',\n",
    "    #'baja autoestima',\n",
    "\n",
    "    #'insomnio',\n",
    "    'pensamientos acelerados',\n",
    "    #'ataques de panico',\n",
    "]\n",
    "\n",
    "# === Extraer X e y ===\n",
    "X_train = df_train[columnas_seleccionadas].copy()\n",
    "y_train = label_encoder.fit_transform(df_train['label'])\n",
    "\n",
    "# === Escalado (solo de las columnas seleccionadas) ===\n",
    "X_train[['num_palabras_largas', 'negaciones']] = scaler.fit_transform(\n",
    "    X_train[['num_palabras_largas', 'negaciones']]\n",
    ")\n",
    "\n",
    "\n",
    "# === SPLIT VALIDACIÓN ===\n",
    "X_train_split, X_val_split, y_train_split, y_val_split = train_test_split(\n",
    "    X_train, y_train, test_size=0.3, random_state=42\n",
    ")\n",
    "\n",
    "# === HIPERPARÁMETROS MANUALES PARA GBM ===\n",
    "modelo_gbm = GradientBoostingClassifier(\n",
    "    loss='log_loss',\n",
    "    learning_rate=0.1,\n",
    "    n_estimators=100,\n",
    "    max_depth=3,\n",
    "    subsample=1.0,\n",
    "    max_features=None,\n",
    "    min_samples_split=2,\n",
    "    random_state=42\n",
    ")\n",
    "\n",
    "# === ENTRENAMIENTO ===\n",
    "modelo_gbm.fit(X_train_split, y_train_split)\n",
    "\n",
    "# === PREDICCIÓN Y EVALUACIÓN ===\n",
    "y_val_pred = modelo_gbm.predict(X_val_split)\n",
    "\n",
    "accuracy = accuracy_score(y_val_split, y_val_pred)\n",
    "precision = precision_score(y_val_split, y_val_pred, average='weighted')\n",
    "recall = recall_score(y_val_split, y_val_pred, average='weighted')\n",
    "f1 = f1_score(y_val_split, y_val_pred, average='weighted')\n",
    "balanced_accuracy = balanced_accuracy_score(y_val_split, y_val_pred)\n",
    "\n",
    "# === RESULTADOS ===\n",
    "print(\"\\nResultados del modelo GBM:\")\n",
    "print(f\"Accuracy: {accuracy:.4f}\")\n",
    "print(f\"Precision: {precision:.4f}\")\n",
    "print(f\"Recall: {recall:.4f}\")\n",
    "print(f\"F1 Score: {f1:.4f}\")\n",
    "print(f\"Balanced Accuracy: {balanced_accuracy:.4f}\")\n",
    "print(\"\\nReporte de Clasificación:\")\n",
    "print(classification_report(y_val_split, y_val_pred))\n",
    "\n",
    "# === GUARDAR MODELO Y TRANSFORMADORES ===\n",
    "joblib.dump(modelo_gbm, 'gbm_model_manual.pkl')\n",
    "joblib.dump(scaler, 'scaler.pkl')\n",
    "joblib.dump(label_encoder, 'label_encoder.pkl')\n",
    "joblib.dump(columnas_seleccionadas, 'columnas_seleccionadas.pkl')\n",
    "joblib.dump(label_encoder.classes_, 'clases_modelo.pkl')\n",
    "\n",
    "print(\"\\nModelo GBM guardado exitosamente.\")"
   ]
  },
  {
   "cell_type": "markdown",
   "metadata": {
    "id": "N--LeUrGCvMg"
   },
   "source": [
    "**Pruebas con TEST**"
   ]
  },
  {
   "cell_type": "code",
   "execution_count": null,
   "metadata": {
    "colab": {
     "base_uri": "https://localhost:8080/"
    },
    "executionInfo": {
     "elapsed": 234,
     "status": "ok",
     "timestamp": 1758236818822,
     "user": {
      "displayName": "Kathia Garcia",
      "userId": "03947002799544824998"
     },
     "user_tz": 180
    },
    "id": "GNWS-APYC0gZ",
    "outputId": "7111d655-7970-4dd1-9633-4434bbfadc2a"
   },
   "outputs": [],
   "source": [
    "import pandas as pd\n",
    "import joblib\n",
    "from sklearn.metrics import accuracy_score, precision_score, recall_score, f1_score, classification_report\n",
    "\n",
    "# === 1. Cargar modelo y transformadores ===\n",
    "modelo_gbm = joblib.load('gbm_model_manual.pkl')  # Cargar el modelo GBM\n",
    "scaler = joblib.load('scaler.pkl')\n",
    "columnas_seleccionadas = joblib.load('columnas_seleccionadas.pkl')\n",
    "label_encoder = joblib.load('label_encoder.pkl')  # Opcional, pero recomendado\n",
    "\n",
    "# === 2. Preprocesar conjunto de prueba ===\n",
    "X_test = df_test.reindex(columns=columnas_seleccionadas, fill_value=0)\n",
    "\n",
    "# === Escalar solo columnas que fueron normalizadas ===\n",
    "columnas_a_escalar = ['num_palabras_mayusculas', 'num_palabras_largas', 'negaciones']\n",
    "columnas_presentes = [col for col in columnas_a_escalar if col in X_test.columns]\n",
    "X_test.loc[:, columnas_presentes] = scaler.transform(X_test[columnas_presentes])\n",
    "\n",
    "# === Codificar etiquetas reales si fue usado LabelEncoder ===\n",
    "y_test = label_encoder.transform(df_test['label']) if hasattr(label_encoder, 'classes_') else df_test['label']\n",
    "\n",
    "# === 3. Predicción ===\n",
    "y_pred = modelo_gbm.predict(X_test)\n",
    "\n",
    "# === 4. Métricas ===\n",
    "accuracy = accuracy_score(y_test, y_pred)\n",
    "precision = precision_score(y_test, y_pred, average='weighted')\n",
    "recall = recall_score(y_test, y_pred, average='weighted')\n",
    "f1 = f1_score(y_test, y_pred, average='weighted')\n",
    "\n",
    "print(\"Resultados finales en el conjunto de prueba (GBM):\")\n",
    "print(f\"Accuracy: {accuracy:.4f}\")\n",
    "print(f\"Precision: {precision:.4f}\")\n",
    "print(f\"Recall: {recall:.4f}\")\n",
    "print(f\"F1 Score: {f1:.4f}\")\n",
    "\n",
    "print(\"\\nReporte de Clasificación:\")\n",
    "\n",
    "print(classification_report(y_test, y_pred))\n"
   ]
  }
 ],
 "metadata": {
  "colab": {
   "provenance": []
  },
  "kernelspec": {
   "display_name": "Python 3",
   "name": "python3"
  },
  "language_info": {
   "name": "python"
  }
 },
 "nbformat": 4,
 "nbformat_minor": 0
}
