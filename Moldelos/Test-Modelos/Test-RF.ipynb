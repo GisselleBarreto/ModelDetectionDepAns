{
 "cells": [
  {
   "cell_type": "code",
   "execution_count": null,
   "metadata": {
    "colab": {
     "base_uri": "https://localhost:8080/"
    },
    "executionInfo": {
     "elapsed": 96287,
     "status": "ok",
     "timestamp": 1748624714686,
     "user": {
      "displayName": "Kathia Garcia",
      "userId": "03947002799544824998"
     },
     "user_tz": 180
    },
    "id": "uuBFOFLQGr-m",
    "outputId": "f9626959-36cf-4cc8-a560-0bd9c28cb3a4"
   },
   "outputs": [],
   "source": [
    "## Montar google drive\n",
    "from google.colab import drive\n",
    "drive.mount('/content/drive')\n"
   ]
  },
  {
   "cell_type": "code",
   "execution_count": null,
   "metadata": {
    "executionInfo": {
     "elapsed": 3654,
     "status": "ok",
     "timestamp": 1748624725927,
     "user": {
      "displayName": "Kathia Garcia",
      "userId": "03947002799544824998"
     },
     "user_tz": 180
    },
    "id": "b20rt5GQJV0Z"
   },
   "outputs": [],
   "source": [
    "# Cargar el archivo desde Google Drive\n",
    "import pandas as pd\n",
    "# Cargar datos de entrenamiento y prueba\n",
    "df_train = pd.read_excel(\"linkXlsx\")\n",
    "df_test = pd.read_excel(\"linkXlsx\")\n",
    "\n"
   ]
  },
  {
   "cell_type": "markdown",
   "metadata": {
    "id": "XLxJ9JXxJKum"
   },
   "source": [
    "**Entrenamiento con el conjunto de Train**"
   ]
  },
  {
   "cell_type": "markdown",
   "metadata": {
    "id": "ymizUigAJOus"
   },
   "source": [
    "Se seleccionan las caracteristicas y se buscan los mejores hiperparametros"
   ]
  },
  {
   "cell_type": "code",
   "execution_count": null,
   "metadata": {
    "colab": {
     "base_uri": "https://localhost:8080/"
    },
    "executionInfo": {
     "elapsed": 2382,
     "status": "ok",
     "timestamp": 1748624731283,
     "user": {
      "displayName": "Kathia Garcia",
      "userId": "03947002799544824998"
     },
     "user_tz": 180
    },
    "id": "LAaKJjM9Ls0M",
    "outputId": "e70ab3c3-78ef-493c-ebef-c66fb94e9b41"
   },
   "outputs": [],
   "source": [
    "import pandas as pd\n",
    "from sklearn.model_selection import GridSearchCV\n",
    "from sklearn.preprocessing import LabelEncoder, MinMaxScaler\n",
    "from sklearn.ensemble import RandomForestClassifier\n",
    "import joblib\n",
    "\n",
    "# 1. Cargar archivo de entrenamiento\n",
    "\n",
    "# 2. Seleccionar características\n",
    "columnas_seleccionadas = [\n",
    "    'POS','NEU','NEG',\n",
    "   'alegria','tristeza' ,'miedo', 'disgusto', 'enojo', 'sorpresa','toxicity',\n",
    "   'yo', 'me', 'mi','mí',\n",
    "   'num_palabras_largas',\n",
    "   'falta de motivacion',  'aislamiento social',  'pensamientos suicidas',\n",
    "]\n",
    "\n",
    "X_train = df_train[columnas_seleccionadas].copy()\n",
    "y_train = df_train['label']\n",
    "\n",
    "# 3. Normalizar columnas numéricas\n",
    "scaler = MinMaxScaler()\n",
    "X_train[['num_palabras_largas']] = scaler.fit_transform(X_train[[ 'num_palabras_largas']])\n",
    "\n",
    "\n",
    "#Hiperparametros encontrados en el conjutno de pruebas\n",
    "modelo_rf = RandomForestClassifier(class_weight= 'balanced', max_depth= 15, min_samples_leaf= 2, min_samples_split= 5, n_estimators= 100, random_state=42)\n",
    "\n",
    "\n",
    "\n",
    "modelo_rf.fit(X_train, y_train)\n",
    "\n",
    "# 8. Guardar el modelo, escalador, label encoder y columnas seleccionadas\n",
    "joblib.dump(modelo_rf, 'modelo_rf_entrenado.pkl')\n",
    "joblib.dump(scaler, 'scaler.pkl')\n",
    "joblib.dump(columnas_seleccionadas, 'columnas_seleccionadas.pkl')\n",
    "\n",
    "print(\"Modelo entrenado y guardado exitosamente.\")\n"
   ]
  },
  {
   "cell_type": "code",
   "execution_count": null,
   "metadata": {
    "colab": {
     "base_uri": "https://localhost:8080/"
    },
    "executionInfo": {
     "elapsed": 35,
     "status": "ok",
     "timestamp": 1748624738402,
     "user": {
      "displayName": "Kathia Garcia",
      "userId": "03947002799544824998"
     },
     "user_tz": 180
    },
    "id": "ee0D_AsF2QJa",
    "outputId": "cdb8d3df-7444-4c0f-8267-c7fe86b357de"
   },
   "outputs": [],
   "source": [
    "import pandas as pd\n",
    "import joblib\n",
    "from sklearn.metrics import accuracy_score, precision_score, recall_score, f1_score, classification_report\n",
    "\n",
    "# 2. Cargar modelo, scaler, encoder y columnas seleccionadas\n",
    "modelo_rf = joblib.load('modelo_rf_entrenado.pkl')\n",
    "scaler = joblib.load('scaler.pkl')\n",
    "columnas_seleccionadas = joblib.load('columnas_seleccionadas.pkl')\n",
    "\n",
    "# 3. Preprocesar el conjunto de prueba\n",
    "X_test = df_test.reindex(columns=columnas_seleccionadas, fill_value=0)\n",
    "X_test.loc[:, ['num_palabras_largas']] = scaler.transform(\n",
    "    X_test[[ 'num_palabras_largas']]\n",
    ")\n",
    "y_test = df_test['label']\n",
    "\n",
    "# 4. Hacer predicciones en el conjunto de prueba\n",
    "y_pred = modelo_rf.predict(X_test)\n",
    "\n",
    "# 5. Calcular métricas de evaluación\n",
    "accuracy = accuracy_score(y_test, y_pred)\n",
    "precision = precision_score(y_test, y_pred, average='weighted')\n",
    "recall = recall_score(y_test, y_pred, average='weighted')\n",
    "f1 = f1_score(y_test, y_pred, average='weighted')\n",
    "\n",
    "print(\"Resultados finales en el conjunto de prueba:\")\n",
    "print(f\"Accuracy: {accuracy:.4f}\")\n",
    "print(f\"Precision: {precision:.4f}\")\n",
    "print(f\"Recall: {recall:.4f}\")\n",
    "print(f\"F1 Score: {f1:.4f}\")\n",
    "\n",
    "print(\"\\nReporte de Clasificación:\")\n",
    "print(classification_report(y_test, y_pred))\n"
   ]
  },
  {
   "cell_type": "markdown",
   "metadata": {
    "id": "wWQxGfvRClaP"
   },
   "source": [
    "**Distribucion de clases**"
   ]
  },
  {
   "cell_type": "code",
   "execution_count": null,
   "metadata": {
    "colab": {
     "base_uri": "https://localhost:8080/"
    },
    "executionInfo": {
     "elapsed": 291,
     "status": "ok",
     "timestamp": 1734884168027,
     "user": {
      "displayName": "Kathia Garcia",
      "userId": "03947002799544824998"
     },
     "user_tz": 180
    },
    "id": "ZNo1vzpZMvEb",
    "outputId": "fc06a6bb-4de7-4ca6-e309-097607bf44af"
   },
   "outputs": [],
   "source": [
    "# Comparar distribución de clases\n",
    "print(\"Distribución de clases en Train:\")\n",
    "print(df_train['label'].value_counts(normalize=True))\n",
    "\n",
    "print(\"\\nDistribución de clases en Test:\")\n",
    "print(df_test['label'].value_counts(normalize=True))\n"
   ]
  },
  {
   "cell_type": "code",
   "execution_count": null,
   "metadata": {
    "colab": {
     "base_uri": "https://localhost:8080/",
     "height": 1000
    },
    "executionInfo": {
     "elapsed": 8571,
     "status": "ok",
     "timestamp": 1734884181478,
     "user": {
      "displayName": "Kathia Garcia",
      "userId": "03947002799544824998"
     },
     "user_tz": 180
    },
    "id": "DER8ljptArY9",
    "outputId": "4f14b9f3-5cca-4717-ceca-e501a253a21b"
   },
   "outputs": [],
   "source": [
    "# Comparar distribuciones de una característica\n",
    "import matplotlib.pyplot as plt\n",
    "\n",
    "for col in columnas_seleccionadas:\n",
    "    plt.figure(figsize=(6, 4))\n",
    "    df_train[col].hist(alpha=0.5, color='blue', label='Train')\n",
    "    df_test[col].hist(alpha=0.5, color='red', label='Test')\n",
    "    plt.legend()\n",
    "    plt.title(f'Distribución de {col} en Train y Test')\n",
    "    plt.show()\n"
   ]
  }
 ],
 "metadata": {
  "colab": {
   "authorship_tag": "ABX9TyN+mhT+72CMgH9b5SW00qZP",
   "provenance": []
  },
  "kernelspec": {
   "display_name": "Python 3",
   "name": "python3"
  },
  "language_info": {
   "name": "python"
  }
 },
 "nbformat": 4,
 "nbformat_minor": 0
}
