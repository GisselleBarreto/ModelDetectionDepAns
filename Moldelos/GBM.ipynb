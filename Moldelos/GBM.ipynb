{
 "cells": [
  {
   "cell_type": "code",
   "execution_count": null,
   "metadata": {
    "colab": {
     "base_uri": "https://localhost:8080/"
    },
    "executionInfo": {
     "elapsed": 21250,
     "status": "ok",
     "timestamp": 1757424835914,
     "user": {
      "displayName": "Kathia Garcia",
      "userId": "03947002799544824998"
     },
     "user_tz": 180
    },
    "id": "mLMLx4JFsr-G",
    "outputId": "05b9454a-2188-4ed8-c6de-b9fe8ed8b490"
   },
   "outputs": [],
   "source": [
    "# ===============================================\n",
    "# 1. Importación de librerías\n",
    "# ===============================================\n",
    "\n",
    "!pip install scikit-learn\n",
    "import numpy as np\n",
    "import pandas as pd\n",
    "from sklearn.model_selection import train_test_split\n",
    "from sklearn.ensemble import GradientBoostingClassifier\n",
    "from sklearn.metrics import accuracy_score\n",
    "from sklearn.preprocessing import LabelEncoder, MinMaxScaler\n",
    "from sklearn.model_selection import train_test_split\n"
   ]
  },
  {
   "cell_type": "code",
   "execution_count": null,
   "metadata": {
    "colab": {
     "base_uri": "https://localhost:8080/"
    },
    "executionInfo": {
     "elapsed": 24038,
     "status": "ok",
     "timestamp": 1757424939277,
     "user": {
      "displayName": "Kathia Garcia",
      "userId": "03947002799544824998"
     },
     "user_tz": 180
    },
    "id": "io51Z2pE-GVi",
    "outputId": "61ffbf42-07da-4533-c08d-c1f6fa345e99"
   },
   "outputs": [],
   "source": [
    "# ===============================================\n",
    "# 2. Montar drive\n",
    "# ===============================================\n",
    "\n",
    "from google.colab import drive\n",
    "drive.mount('/content/drive')"
   ]
  },
  {
   "cell_type": "code",
   "execution_count": null,
   "metadata": {
    "executionInfo": {
     "elapsed": 2629,
     "status": "ok",
     "timestamp": 1757424946571,
     "user": {
      "displayName": "Kathia Garcia",
      "userId": "03947002799544824998"
     },
     "user_tz": 180
    },
    "id": "vVJ3plHj-G8j"
   },
   "outputs": [],
   "source": [
    "# ===============================================\n",
    "# 3. Carga del dataset\n",
    "# ===============================================\n",
    "\n",
    "file_path = 'linkXlsx'\n",
    "\n",
    "# Cargar el archivo Excel en un DataFrame\n",
    "df = pd.read_excel(file_path)"
   ]
  },
  {
   "cell_type": "markdown",
   "metadata": {
    "id": "hLrnf7rKwNjm"
   },
   "source": [
    "Seleccion de caracteristicas"
   ]
  },
  {
   "cell_type": "code",
   "execution_count": 16,
   "metadata": {
    "executionInfo": {
     "elapsed": 30,
     "status": "ok",
     "timestamp": 1757425472807,
     "user": {
      "displayName": "Kathia Garcia",
      "userId": "03947002799544824998"
     },
     "user_tz": 180
    },
    "id": "OlIsqahv-MTL"
   },
   "outputs": [],
   "source": [
    "# ===============================================\n",
    "# 4. Selección de características\n",
    "# ===============================================\n",
    "\n",
    "# Codificar la columna 'sentiment' en valores numéricos\n",
    "label_encoder_sentiment = LabelEncoder()\n",
    "df['sentiment_numeric'] = label_encoder_sentiment.fit_transform(df['sentiment'])\n",
    "\n",
    "# Características específicas\n",
    "columnas_seleccionadas = [\n",
    "    'toxicity',\n",
    "\n",
    "    'POS','NEU','NEG',\n",
    "\n",
    "    'alegria', 'tristeza' ,'miedo','disgusto','enojo', 'sorpresa',\n",
    "\n",
    "    'yo', 'me', 'mi', 'mí',\n",
    "\n",
    "    'num_palabras_largas',\n",
    "    #'num_signos_puntuacion'\n",
    "    #'num_palabras_mayusculas',\n",
    "    #'num_palabras_primera_mayuscula',\n",
    "    'negaciones',\n",
    "\n",
    "    #'hora'\n",
    "\n",
    "    #'Medicamento_ansiedad','Medicamento_depresion',\n",
    "\n",
    "    'falta de motivacion',\n",
    "    'aislamiento social',\n",
    "    'pensamientos suicidas',\n",
    "   # 'baja autoestima',\n",
    "\n",
    "    #'insomnio',\n",
    "    'pensamientos acelerados',\n",
    "    #'ataques de panico',\n",
    "\n",
    "]\n",
    "\n",
    "# Normalizar solo las columnas numéricas específicas\n",
    "scaler = MinMaxScaler()\n",
    "cols_to_normalize = [\n",
    "    'num_palabras_largas','negaciones','num_palabras_mayusculas',\n",
    "    'num_palabras_primera_mayuscula', 'num_signos_puntuacion',\n",
    "\n",
    "]\n",
    "\n",
    "# Verificar que las columnas a normalizar existan en el DataFrame antes de normalizar\n",
    "cols_to_normalize = [col for col in cols_to_normalize if col in df.columns]\n",
    "df[cols_to_normalize] = scaler.fit_transform(df[cols_to_normalize])\n",
    "\n",
    "# Seleccionar las características\n",
    "X = df[columnas_seleccionadas].copy()\n",
    "\n",
    "# Codificar las etiquetas de la columna 'label'\n",
    "label_encoder = LabelEncoder()\n",
    "y = label_encoder.fit_transform(df['label'])  # 0, 1 y 2 deben estar en esta columna\n",
    "\n",
    "\n",
    "# ===============================================\n",
    "# 4. División del dataset 70% train / 30% test\n",
    "# ===============================================\n",
    "\n",
    "X_train, X_test, y_train, y_test = train_test_split(X, y, test_size=0.3, random_state=42)\n",
    "\n",
    "\n"
   ]
  },
  {
   "cell_type": "markdown",
   "metadata": {
    "id": "sYRy0BCP-Xk1"
   },
   "source": [
    "**Inicializar y entrenar el modelo de Gradient Boosting**"
   ]
  },
  {
   "cell_type": "code",
   "execution_count": null,
   "metadata": {
    "colab": {
     "base_uri": "https://localhost:8080/",
     "height": 842
    },
    "executionInfo": {
     "elapsed": 1242,
     "status": "ok",
     "timestamp": 1757425478841,
     "user": {
      "displayName": "Kathia Garcia",
      "userId": "03947002799544824998"
     },
     "user_tz": 180
    },
    "id": "qyeCdqeu-WWR",
    "outputId": "b28ea554-79ff-403b-c819-ef8839888edb"
   },
   "outputs": [],
   "source": [
    "from sklearn.metrics import (\n",
    "    accuracy_score,\n",
    "    precision_score,\n",
    "    recall_score,\n",
    "    f1_score,\n",
    "    roc_auc_score,\n",
    "    confusion_matrix,\n",
    "    classification_report\n",
    ")\n",
    "import seaborn as sns\n",
    "import matplotlib.pyplot as plt\n",
    "import numpy as np # Ensure numpy is imported for np.sqrt\n",
    "\n",
    "# ===============================================\n",
    "# 5. Configuración base del modelo GBM\n",
    "# ===============================================\n",
    "\n",
    "gb_model = GradientBoostingClassifier(\n",
    "    #base\n",
    "    loss='log_loss',\n",
    "    learning_rate=0.1,\n",
    "    n_estimators=100,\n",
    "    max_depth=3,\n",
    "    subsample=1.0,\n",
    "    max_features=None,\n",
    "    min_samples_split=2,\n",
    "    random_state=42\n",
    "\n",
    ")\n",
    "\n",
    "# ===============================================\n",
    "# 6. Entrenamiento con hiperparámetros base\n",
    "# ===============================================\n",
    "\n",
    "gb_model.fit(X_train, y_train)\n",
    "\n",
    "# Predicciones\n",
    "y_pred = gb_model.predict(X_test)\n",
    "\n",
    "# ===============================================\n",
    "# 7. Evaluación del modelo base\n",
    "# ===============================================\n",
    "\n",
    "# Métricas\n",
    "accuracy = accuracy_score(y_test, y_pred)\n",
    "precision = precision_score(y_test, y_pred, average='weighted')\n",
    "recall = recall_score(y_test, y_pred, average='weighted')\n",
    "f1 = f1_score(y_test, y_pred, average='weighted')\n",
    "\n",
    "\n",
    "\n",
    "# ROC-AUC solo si es binario\n",
    "if len(set(y_test)) == 2:\n",
    "    y_prob = gb_model.predict_proba(X_test)[:, 1]\n",
    "    roc_auc = roc_auc_score(y_test, y_prob)\n",
    "    print(f\"ROC-AUC: {roc_auc:.4f}\")\n",
    "\n",
    "# Imprimir métricas\n",
    "print(f\"F1-Score : {f1 :.4f}\")\n",
    "print(f\"Accuracy: {accuracy :.4f}\")\n",
    "print(f\"Precision : {precision:.4f}\")\n",
    "print(f\"Recall : {recall :.4f}\")\n",
    "\n",
    "\n",
    "# Matriz de confusión\n",
    "conf_matrix = confusion_matrix(y_test, y_pred)\n",
    "plt.figure(figsize=(8, 6))\n",
    "sns.heatmap(conf_matrix, annot=True, fmt='d', cmap='Blues', xticklabels=set(y_test), yticklabels=set(y_test))\n",
    "plt.title(\"Matriz de Confusión\")\n",
    "plt.xlabel(\"Predicciones\")\n",
    "plt.ylabel(\"Valores Reales\")\n",
    "plt.show()\n",
    "\n",
    "# Reporte de clasificación\n",
    "print(\"\\nReporte de Clasificación:\")\n",
    "print(classification_report(y_test, y_pred))"
   ]
  },
  {
   "cell_type": "markdown",
   "metadata": {
    "id": "r0dYNZYeLsPg"
   },
   "source": [
    "**Importancia de las caracteristicas**"
   ]
  },
  {
   "cell_type": "markdown",
   "metadata": {
    "id": "YF-Rj1MT-s_n"
   },
   "source": [
    "**Ajuste de hiperparametros**"
   ]
  },
  {
   "cell_type": "code",
   "execution_count": null,
   "metadata": {
    "colab": {
     "base_uri": "https://localhost:8080/",
     "height": 373
    },
    "executionInfo": {
     "elapsed": 14896,
     "status": "error",
     "timestamp": 1748745743390,
     "user": {
      "displayName": "Gisselle Barreto",
      "userId": "01486531895219062980"
     },
     "user_tz": 180
    },
    "id": "JNMbjBL7-xMI",
    "outputId": "f55bb4a4-0ddf-4e00-a2dd-0fc1fca29574"
   },
   "outputs": [],
   "source": [
    "# ===============================================\n",
    "# 8. Búsqueda de hiperparámetros (GridSearchCV)\n",
    "# ===============================================\n",
    "\n",
    "from sklearn.model_selection import GridSearchCV\n",
    "from sklearn.ensemble import GradientBoostingClassifier\n",
    "\n",
    "# Modelo base con configuración inicial\n",
    "gb_model = GradientBoostingClassifier(loss='log_loss', random_state=42)\n",
    "\n",
    "# Espacio de búsqueda de hiperparámetros\n",
    "param_grid = {\n",
    "    'n_estimators': [100, 150, 200],           # Número de árboles (boosting rounds)\n",
    "    'learning_rate': [0.05, 0.1, 0.2],         # Tasa de aprendizaje\n",
    "    'max_depth': [3, 5],                       # Profundidad máxima del árbol\n",
    "    'subsample': [0.7, 0.8, 1.0],              # Fracción de datos usados por árbol\n",
    "    'max_features': ['sqrt', 'log2', None],    # Subconjunto de variables por split\n",
    "    'min_samples_split': [2, 5, 10]            # Mínimas muestras para dividir un nodo\n",
    "}\n",
    "\n",
    "# Configurar GridSearchCV\n",
    "grid_search = GridSearchCV(\n",
    "    estimator=gb_model,\n",
    "    param_grid=param_grid,\n",
    "    scoring='f1_weighted',                     # Métrica de evaluación principal (como en LGBM)\n",
    "    cv=5,                                      # Validación cruzada (5 pliegues)\n",
    "    verbose=2,                                 # Nivel de detalle del proceso\n",
    "    n_jobs=-1                                  # Usar todos los núcleos disponibles\n",
    ")\n",
    "\n",
    "# Ejecutar búsqueda\n",
    "grid_search.fit(X_train, y_train)\n",
    "\n",
    "# Resultados de la mejor combinación encontrada\n",
    "print(\"Mejores hiperparámetros encontrados:\", grid_search.best_params_)\n",
    "print(f\"Mejor F1 Score promedio (validación cruzada): {grid_search.best_score_:.4f}\")\n"
   ]
  },
  {
   "cell_type": "markdown",
   "metadata": {
    "id": "77lsdU3nOAI9"
   },
   "source": [
    "**Validacion cruzada**"
   ]
  },
  {
   "cell_type": "code",
   "execution_count": null,
   "metadata": {
    "colab": {
     "base_uri": "https://localhost:8080/",
     "height": 211
    },
    "executionInfo": {
     "elapsed": 23,
     "status": "error",
     "timestamp": 1748745746443,
     "user": {
      "displayName": "Gisselle Barreto",
      "userId": "01486531895219062980"
     },
     "user_tz": 180
    },
    "id": "eT8b3ItGOFtV",
    "outputId": "cf3103bf-9012-4b7c-a31d-2c0880442e4e"
   },
   "outputs": [],
   "source": [
    "# ===============================================\n",
    "# 9. Validación Cruzada\n",
    "# ===============================================\n",
    "\n",
    "from sklearn.metrics import classification_report, confusion_matrix, accuracy_score, precision_score, recall_score, f1_score\n",
    "\n",
    "# Asignar el mejor estimador de GridSearch\n",
    "optimized_gb_model = grid_search.best_estimator_\n",
    "\n",
    "# Entrenar el modelo optimizado con los mejores hiperparámetros\n",
    "optimized_gb_model.fit(X_train, y_train)\n",
    "\n",
    "# Predicciones en el conjunto de prueba\n",
    "y_pred = optimized_gb_model.predict(X_test)\n",
    "\n",
    "# Métricas\n",
    "accuracy = accuracy_score(y_test, y_pred)\n",
    "precision = precision_score(y_test, y_pred, average='weighted')  # Ponderado para problemas multiclase\n",
    "recall = recall_score(y_test, y_pred, average='weighted')\n",
    "f1 = f1_score(y_test, y_pred, average='weighted')\n",
    "\n",
    "# Matriz de confusión\n",
    "conf_matrix = confusion_matrix(y_test, y_pred)\n",
    "\n",
    "# Reporte de clasificación\n",
    "class_report = classification_report(y_test, y_pred)\n",
    "\n",
    "# Mostrar resultados\n",
    "print(f\"Accuracy (weighted): {accuracy :.4f}%\")\n",
    "print(f\"Precision (weighted): {precision :.4f}%\")\n",
    "print(f\"Recall (weighted): {recall :.4f}%\")\n",
    "print(f\"F1 Score (weighted): {f1 :.4f}%\")\n",
    "print(\"\\nMatriz de Confusión:\")\n",
    "print(conf_matrix)\n",
    "print(\"\\nReporte de Clasificación:\")\n",
    "print(class_report)\n"
   ]
  },
  {
   "cell_type": "code",
   "execution_count": null,
   "metadata": {
    "colab": {
     "base_uri": "https://localhost:8080/",
     "height": 492
    },
    "executionInfo": {
     "elapsed": 373,
     "status": "ok",
     "timestamp": 1748722974911,
     "user": {
      "displayName": "Gisselle Barreto",
      "userId": "01486531895219062980"
     },
     "user_tz": 180
    },
    "id": "0PC6xxy2_erV",
    "outputId": "09b05a24-6662-452e-9f3f-077257edd4c1"
   },
   "outputs": [],
   "source": [
    "# ===============================================\n",
    "# 10. Importancia de características acumulada\n",
    "# ===============================================\n",
    "\n",
    "import matplotlib.pyplot as plt\n",
    "import numpy as np  # Importa numpy para trabajar con arrays\n",
    "\n",
    "# Importancia de características\n",
    "importances = optimized_gb_model.feature_importances_\n",
    "\n",
    "# Obtén los índices de las características ordenadas por importancia\n",
    "indices_ordenados = np.argsort(importances)[::1]  # [::-1] invierte el orden para descendente\n",
    "\n",
    "# Ordena las características y sus importancias\n",
    "caracteristicas_ordenadas = X_train.columns[indices_ordenados]\n",
    "importancias_ordenadas = importances[indices_ordenados]\n",
    "\n",
    "# Visualizar con las características ordenadas\n",
    "plt.figure(figsize=(10, 6))\n",
    "plt.barh(caracteristicas_ordenadas, importancias_ordenadas)\n",
    "plt.xlabel(\"Importancia\")\n",
    "plt.ylabel(\"Características\")\n",
    "plt.title(\"Importancia de Características en Gradient Boosting Machine\")\n",
    "plt.show()"
   ]
  }
 ],
 "metadata": {
  "colab": {
   "provenance": []
  },
  "kernelspec": {
   "display_name": "Python 3",
   "name": "python3"
  },
  "language_info": {
   "name": "python"
  }
 },
 "nbformat": 4,
 "nbformat_minor": 0
}
