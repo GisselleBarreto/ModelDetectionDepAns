{
 "cells": [
  {
   "cell_type": "code",
   "execution_count": null,
   "metadata": {
    "colab": {
     "base_uri": "https://localhost:8080/"
    },
    "executionInfo": {
     "elapsed": 32632,
     "status": "ok",
     "timestamp": 1748639254254,
     "user": {
      "displayName": "Kathia Garcia",
      "userId": "03947002799544824998"
     },
     "user_tz": 180
    },
    "id": "hwLJjrsQpIi_",
    "outputId": "d55dd953-aac4-4b8f-8043-30a495775fec"
   },
   "outputs": [],
   "source": [
    "## Montar google drive\n",
    "from google.colab import drive\n",
    "drive.mount('/content/drive')"
   ]
  },
  {
   "cell_type": "code",
   "execution_count": null,
   "metadata": {
    "executionInfo": {
     "elapsed": 2411,
     "status": "ok",
     "timestamp": 1748639267653,
     "user": {
      "displayName": "Kathia Garcia",
      "userId": "03947002799544824998"
     },
     "user_tz": 180
    },
    "id": "K31gZL6eIK1w"
   },
   "outputs": [],
   "source": [
    "# Cargar el archivo desde Google Drive\n",
    "import pandas as pd\n",
    "\n",
    "# Especifica la ruta completa del archivo en tu Google Drive\n",
    "file_path = 'linkXlsx'\n",
    "\n",
    "\n",
    "# Cargar el archivo Excel en un DataFrame\n",
    "df = pd.read_excel(file_path)"
   ]
  },
  {
   "cell_type": "code",
   "execution_count": 11,
   "metadata": {
    "executionInfo": {
     "elapsed": 61,
     "status": "ok",
     "timestamp": 1748639393095,
     "user": {
      "displayName": "Kathia Garcia",
      "userId": "03947002799544824998"
     },
     "user_tz": 180
    },
    "id": "DmyOwQLrINEz"
   },
   "outputs": [],
   "source": [
    "from sklearn.preprocessing import LabelEncoder, MinMaxScaler\n",
    "from sklearn.model_selection import train_test_split\n",
    "\n",
    "# Codificar la columna 'sentiment' en valores numéricos\n",
    "label_encoder_sentiment = LabelEncoder()\n",
    "df['sentiment_numeric'] = label_encoder_sentiment.fit_transform(df['sentiment'])\n",
    "\n",
    "\n",
    "# Seleccionar características específicas\n",
    "columnas_seleccionadas = [\n",
    "    'POS','NEU','NEG', 'toxicity',\n",
    "    'tristeza' ,'miedo','enojo','disgusto', 'sorpresa',\n",
    "    'alegria',\n",
    "    'num_palabras_largas',\n",
    "    'falta de motivacion',\n",
    "    'aislamiento social',\n",
    "    'pensamientos suicidas',\n",
    "    'baja autoestima',\n",
    "    'insomnio',\n",
    "    'pensamientos acelerados',\n",
    "    'ataques de panico',\n",
    "    'negaciones'\n",
    "]\n",
    "\n",
    "# Normalizar solo las columnas numéricas específicas\n",
    "scaler = MinMaxScaler()\n",
    "cols_to_normalize = [\n",
    "    'num_palabras_largas','negaciones','num_palabras_mayusculas',\n",
    "   'num_palabras_primera_mayuscula', 'num_signos_puntuacion',\n",
    "\n",
    "]\n",
    "\n",
    "# Verificar que las columnas a normalizar existan en el DataFrame antes de normalizar\n",
    "cols_to_normalize = [col for col in cols_to_normalize if col in df.columns]\n",
    "df[cols_to_normalize] = scaler.fit_transform(df[cols_to_normalize])\n",
    "\n",
    "# Seleccionar las características\n",
    "X = df[columnas_seleccionadas].copy()\n",
    "\n",
    "# Codificar las etiquetas de la columna 'label'\n",
    "label_encoder = LabelEncoder()\n",
    "y = label_encoder.fit_transform(df['label'])  # 0, 1 y 2 deben estar en esta columna\n",
    "\n",
    "# Dividir los datos en conjunto de entrenamiento y prueba\n",
    "X_train, X_test, y_train, y_test = train_test_split(X, y, test_size=0.3, random_state=42)\n",
    "\n",
    "\n"
   ]
  },
  {
   "cell_type": "markdown",
   "metadata": {
    "id": "tGRyk1BzdX0f"
   },
   "source": [
    "Entrena el modelo\n"
   ]
  },
  {
   "cell_type": "code",
   "execution_count": null,
   "metadata": {
    "colab": {
     "base_uri": "https://localhost:8080/"
    },
    "executionInfo": {
     "elapsed": 2960,
     "status": "ok",
     "timestamp": 1748639398921,
     "user": {
      "displayName": "Kathia Garcia",
      "userId": "03947002799544824998"
     },
     "user_tz": 180
    },
    "id": "joAjmvqMdZj5",
    "outputId": "649122b6-f592-47fb-dfe8-d1a440c59b44"
   },
   "outputs": [],
   "source": [
    "!pip install -U imbalanced-learn  # solo si estás en Google Colab\n",
    "\n",
    "from imblearn.over_sampling import SMOTE\n",
    "from sklearn.naive_bayes import GaussianNB\n",
    "from sklearn.metrics import accuracy_score, precision_score, recall_score, f1_score, classification_report\n",
    "\n",
    "# Aplicar SMOTE solo sobre el conjunto de entrenamiento\n",
    "smote = SMOTE(random_state=42)\n",
    "X_train_resampled, y_train_resampled = smote.fit_resample(X_train, y_train)\n",
    "\n",
    "# Entrenar Naive Bayes con datos balanceados\n",
    "nb_model = GaussianNB()\n",
    "nb_model.fit(X_train_resampled, y_train_resampled)\n",
    "\n",
    "# Predecir sobre el test sin alterar\n",
    "y_pred = nb_model.predict(X_test)\n",
    "\n",
    "# Calcular métricas\n",
    "accuracy = accuracy_score(y_test, y_pred)\n",
    "precision = precision_score(y_test, y_pred, average='weighted')\n",
    "recall = recall_score(y_test, y_pred, average='weighted')\n",
    "f1 = f1_score(y_test, y_pred, average='weighted')\n",
    "\n",
    "# Mostrar resultados\n",
    "print(f\"Accuracy: {accuracy:.4f}\")\n",
    "print(f\"Precision: {precision:.4f}\")\n",
    "print(f\"Recall: {recall:.4f}\")\n",
    "print(f\"F1 Score: {f1:.4f}\")\n",
    "print(\"\\nReporte por clase:\")\n",
    "print(classification_report(y_test, y_pred, target_names=label_encoder.classes_.astype(str)))\n",
    "\n"
   ]
  },
  {
   "cell_type": "markdown",
   "metadata": {
    "id": "UEC5w7BiZ8Cx"
   },
   "source": [
    "**Validacion cruzada**"
   ]
  },
  {
   "cell_type": "code",
   "execution_count": null,
   "metadata": {
    "colab": {
     "base_uri": "https://localhost:8080/"
    },
    "executionInfo": {
     "elapsed": 123,
     "status": "ok",
     "timestamp": 1742336183196,
     "user": {
      "displayName": "Gisselle Barreto",
      "userId": "01486531895219062980"
     },
     "user_tz": 180
    },
    "id": "aqhWcSX5aF-o",
    "outputId": "43e5e85f-5571-46c6-e471-b3f50516f4c6"
   },
   "outputs": [],
   "source": [
    "from sklearn.model_selection import cross_val_score, StratifiedKFold\n",
    "from sklearn.naive_bayes import GaussianNB\n",
    "from sklearn.metrics import make_scorer, accuracy_score, f1_score, precision_score, recall_score\n",
    "import numpy as np\n",
    "\n",
    "# Crear el modelo\n",
    "nb_model = GaussianNB()\n",
    "\n",
    "# Definir la validación cruzada estratificada\n",
    "cv = StratifiedKFold(n_splits=5, shuffle=True, random_state=42)\n",
    "\n",
    "# Definir las métricas personalizadas\n",
    "scoring = {\n",
    "    'accuracy': make_scorer(accuracy_score),\n",
    "    'precision': make_scorer(precision_score, average='weighted'),\n",
    "    'recall': make_scorer(recall_score, average='weighted'),\n",
    "    'f1': make_scorer(f1_score, average='weighted')\n",
    "}\n",
    "\n",
    "# Realizar validación cruzada para cada métrica\n",
    "scores = {}\n",
    "for metric_name, scorer in scoring.items():\n",
    "    metric_scores = cross_val_score(nb_model, X, y, cv=cv, scoring=scorer)\n",
    "    scores[metric_name] = metric_scores\n",
    "    print(f\"{metric_name.capitalize()} (Validación Cruzada): {metric_scores.mean():.4f} ± {metric_scores.std():.4f}\")\n",
    "\n",
    "# Mostrar resultados consolidados\n",
    "print(\"\\n=== Resultados Consolidados ===\")\n",
    "for metric_name, metric_scores in scores.items():\n",
    "    print(f\"{metric_name.capitalize()}: Promedio = {metric_scores.mean():.4f}, Desviación Estándar = {metric_scores.std():.4f}\")\n"
   ]
  },
  {
   "cell_type": "code",
   "execution_count": null,
   "metadata": {
    "colab": {
     "base_uri": "https://localhost:8080/",
     "height": 211
    },
    "executionInfo": {
     "elapsed": 4536,
     "status": "error",
     "timestamp": 1748639200452,
     "user": {
      "displayName": "Kathia Garcia",
      "userId": "03947002799544824998"
     },
     "user_tz": 180
    },
    "id": "EzHjWAOizwQv",
    "outputId": "291daa96-eb67-40b8-ff4a-1f3bae53be81"
   },
   "outputs": [],
   "source": [
    "from sklearn.preprocessing import KBinsDiscretizer\n",
    "from sklearn.naive_bayes import MultinomialNB\n",
    "\n",
    "# Discretizar los datos\n",
    "discretizer = KBinsDiscretizer(n_bins=10, encode='ordinal', strategy='uniform')\n",
    "X_train_discretized = discretizer.fit_transform(X_train)\n",
    "\n",
    "# Entrenar el modelo MultinomialNB\n",
    "nb_model = MultinomialNB()\n",
    "nb_model.fit(X_train_discretized, y_train)\n",
    "\n",
    "# Calcular importancia con log-probabilidades\n",
    "log_prob = nb_model.feature_log_prob_\n",
    "feature_importance = log_prob.max(axis=0) - log_prob.min(axis=0)\n",
    "\n",
    "# Crear DataFrame para graficar\n",
    "df_importancia = pd.DataFrame({\n",
    "    'Característica': X_train.columns,\n",
    "    'Importancia': feature_importance\n",
    "}).sort_values(by='Importancia', ascending=False)\n",
    "\n",
    "# Graficar\n",
    "plt.figure(figsize=(10, 6))\n",
    "plt.barh(df_importancia['Característica'], df_importancia['Importancia'], color='skyblue')\n",
    "plt.xlabel('Log Probabilidad')\n",
    "plt.ylabel('Característica')\n",
    "plt.title('Importancia de Características - MultinomialNB')\n",
    "plt.gca().invert_yaxis()\n",
    "plt.show()"
   ]
  },
  {
   "cell_type": "markdown",
   "metadata": {
    "id": "jTd6ix8vBBe-"
   },
   "source": [
    "Importancia de caracteeristicas"
   ]
  },
  {
   "cell_type": "code",
   "execution_count": null,
   "metadata": {
    "colab": {
     "base_uri": "https://localhost:8080/",
     "height": 607
    },
    "executionInfo": {
     "elapsed": 1097,
     "status": "ok",
     "timestamp": 1748639406225,
     "user": {
      "displayName": "Kathia Garcia",
      "userId": "03947002799544824998"
     },
     "user_tz": 180
    },
    "id": "Vtq6cPpyBESa",
    "outputId": "9799548f-d833-4424-e703-60e3f73051fe"
   },
   "outputs": [],
   "source": [
    "import numpy as np\n",
    "import pandas as pd\n",
    "import matplotlib.pyplot as plt\n",
    "\n",
    "# Asegurate de que el modelo ya esté entrenado:\n",
    "# nb_model = GaussianNB()\n",
    "# nb_model.fit(X_train, y_train)\n",
    "\n",
    "# Calcular varianza entre medias por clase para cada feature\n",
    "variabilidad = np.var(nb_model.theta_, axis=0)\n",
    "\n",
    "# Crear DataFrame con resultados\n",
    "importancia_df = pd.DataFrame({\n",
    "    'Feature': X_train.columns,\n",
    "    'Importancia (var medias)': variabilidad\n",
    "}).sort_values(by='Importancia (var medias)', ascending=False)\n",
    "\n",
    "# Visualizar top 15 características\n",
    "top = importancia_df.head(15)\n",
    "\n",
    "plt.figure(figsize=(10, 6))\n",
    "plt.barh(top['Feature'], top['Importancia (var medias)'])\n",
    "plt.gca().invert_yaxis()\n",
    "plt.xlabel(\"Varianza entre medias por clase\")\n",
    "plt.title(\"Importancia estimada de características - Naive Bayes\")\n",
    "plt.tight_layout()\n",
    "plt.show()\n"
   ]
  }
 ],
 "metadata": {
  "colab": {
   "provenance": []
  },
  "kernelspec": {
   "display_name": "Python 3",
   "name": "python3"
  },
  "language_info": {
   "name": "python"
  }
 },
 "nbformat": 4,
 "nbformat_minor": 0
}
