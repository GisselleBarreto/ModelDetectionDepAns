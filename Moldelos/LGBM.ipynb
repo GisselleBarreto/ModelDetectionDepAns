{
 "cells": [
  {
   "cell_type": "code",
   "execution_count": null,
   "metadata": {
    "colab": {
     "base_uri": "https://localhost:8080/"
    },
    "executionInfo": {
     "elapsed": 23091,
     "status": "ok",
     "timestamp": 1747519711518,
     "user": {
      "displayName": "Kathia Garcia",
      "userId": "03947002799544824998"
     },
     "user_tz": 180
    },
    "id": "io51Z2pE-GVi",
    "outputId": "8acaf447-94b0-4bb4-a0bc-f1c8f741041f"
   },
   "outputs": [],
   "source": [
    "## Montar google drive\n",
    "from google.colab import drive\n",
    "drive.mount('/content/drive')"
   ]
  },
  {
   "cell_type": "code",
   "execution_count": null,
   "metadata": {
    "id": "vVJ3plHj-G8j"
   },
   "outputs": [],
   "source": [
    "# Cargar el archivo desde Google Drive\n",
    "import pandas as pd\n",
    "\n",
    "file_path =  \"linkXlsx\"\n",
    "\n",
    "# Cargar el archivo Excel en un DataFrame\n",
    "df = pd.read_excel(file_path)"
   ]
  },
  {
   "cell_type": "code",
   "execution_count": null,
   "metadata": {
    "colab": {
     "base_uri": "https://localhost:8080/"
    },
    "executionInfo": {
     "elapsed": 2437,
     "status": "ok",
     "timestamp": 1747359512618,
     "user": {
      "displayName": "Kathia Garcia",
      "userId": "03947002799544824998"
     },
     "user_tz": 180
    },
    "id": "at04u0SjvLiA",
    "outputId": "7fb24ca7-ec6e-43ac-fdac-e754fa825fc0"
   },
   "outputs": [],
   "source": [
    "!pip uninstall -y cupy\n"
   ]
  },
  {
   "cell_type": "markdown",
   "metadata": {
    "id": "1wHh2PVb-7vN"
   },
   "source": [
    "**Entrena el modelo**"
   ]
  },
  {
   "cell_type": "code",
   "execution_count": null,
   "metadata": {
    "colab": {
     "base_uri": "https://localhost:8080/"
    },
    "executionInfo": {
     "elapsed": 166,
     "status": "ok",
     "timestamp": 1747519719269,
     "user": {
      "displayName": "Kathia Garcia",
      "userId": "03947002799544824998"
     },
     "user_tz": 180
    },
    "id": "QuffZ-PKGvus",
    "outputId": "f51c9f13-3696-455c-dc34-92d2f801d36e"
   },
   "outputs": [],
   "source": [
    "import numpy as np\n",
    "import pandas as pd\n",
    "from sklearn.model_selection import train_test_split\n",
    "from sklearn.preprocessing import LabelEncoder, MinMaxScaler\n",
    "from sklearn.metrics import accuracy_score, precision_score, recall_score, f1_score, confusion_matrix\n",
    "from lightgbm import LGBMClassifier\n",
    "\n",
    "# 🔒 Asegurar reproducibilidad total\n",
    "np.random.seed(42)\n",
    "\n",
    "\n",
    "# ✅ Características seleccionadas\n",
    "columnas_seleccionadas = [\n",
    "    'POS', 'NEU', 'NEG', 'tristeza', 'miedo', 'disgusto', 'enojo', 'sorpresa', 'alegria',\n",
    "     'toxicity',\n",
    "    'me', 'mi', 'yo',\n",
    "   # 'mí',\n",
    "    'num_palabras_mayusculas',\n",
    "    'num_palabras_largas',\n",
    "  # 'num_signos_puntuacion',\n",
    "    'negaciones',\n",
    "    'falta de motivacion',\n",
    "   'aislamiento social',\n",
    "    'pensamientos suicidas',\n",
    "   # 'baja autoestima',\n",
    "  #  'insomnio',\n",
    "   # 'ataques de panico',\n",
    "    #'pensamientos acelerados'\n",
    "\n",
    "]\n",
    "\n",
    "# ⚙️ Normalización de variables numéricas específicas\n",
    "scaler = MinMaxScaler()\n",
    "cols_to_normalize = ['num_palabras_largas', 'num_palabras_mayusculas', 'num_signos_puntuacion']\n",
    "cols_to_normalize = [col for col in cols_to_normalize if col in df.columns]\n",
    "df[cols_to_normalize] = scaler.fit_transform(df[cols_to_normalize])\n",
    "\n",
    "# 📦 Separar variables independientes y dependiente\n",
    "X = df[columnas_seleccionadas]\n",
    "y = LabelEncoder().fit_transform(df['label'])  # Asegurarse que contenga [0, 1, 2]\n",
    "\n",
    "# ✂️ División estratificada\n",
    "X_train, X_test, y_train, y_test = train_test_split( X, y, test_size=0.3, random_state=42)\n",
    "\n",
    "# 🧠 Modelo con hiperparámetros definidos (config base)\n",
    "model = LGBMClassifier(\n",
    "    objective='multiclass',\n",
    "    num_class=3,\n",
    "    boosting_type='gbdt',\n",
    "    n_estimators=100,\n",
    "    num_leaves=31,\n",
    "    learning_rate=0.05,\n",
    "    feature_fraction=0.7,\n",
    "    verbosity=-1,\n",
    "    random_state=42,\n",
    "    class_weight='balanced'\n",
    "\n",
    ")\n",
    "\n",
    "\n",
    "# 🚀 Entrenamiento\n",
    "model.fit(X_train, y_train)\n",
    "\n",
    "# 🔍 Predicción\n",
    "y_pred = model.predict(X_test)\n",
    "\n",
    "# 📊 Métricas\n",
    "print(f\"Accuracy:  {accuracy_score(y_test, y_pred):.4f}\")\n",
    "print(f\"Precision: {precision_score(y_test, y_pred, average='weighted'):.4f}\")\n",
    "print(f\"Recall:    {recall_score(y_test, y_pred, average='weighted'):.4f}\")\n",
    "print(f\"F1-Score:  {f1_score(y_test, y_pred, average='weighted'):.4f}\")\n",
    "print(\"Confusion Matrix:\\n\", confusion_matrix(y_test, y_pred))\n"
   ]
  },
  {
   "cell_type": "markdown",
   "metadata": {
    "id": "YF-Rj1MT-s_n"
   },
   "source": [
    "**Busqueda de mejores hiperparametros**"
   ]
  },
  {
   "cell_type": "code",
   "execution_count": null,
   "metadata": {
    "colab": {
     "base_uri": "https://localhost:8080/"
    },
    "collapsed": true,
    "executionInfo": {
     "elapsed": 36014,
     "status": "ok",
     "timestamp": 1747494069616,
     "user": {
      "displayName": "Kathia Garcia",
      "userId": "03947002799544824998"
     },
     "user_tz": 180
    },
    "id": "JNMbjBL7-xMI",
    "outputId": "a3961702-82dc-45f5-92d3-53a370c6e7b2"
   },
   "outputs": [],
   "source": [
    "from sklearn.model_selection import GridSearchCV\n",
    "from lightgbm import LGBMClassifier\n",
    "from sklearn.metrics import accuracy_score, precision_score, recall_score, f1_score, confusion_matrix\n",
    "\n",
    "# Definir la cuadrícula de hiperparámetros\n",
    "param_grid = {\n",
    "    'num_leaves': [31, 50, 100],\n",
    "    'learning_rate': [0.01, 0.05, 0.1],\n",
    "    'n_estimators': [50, 100, 200],\n",
    "    'boosting_type': ['gbdt'],\n",
    "    'objective': ['multiclass'],\n",
    "    'feature_fraction': [0.8, 0.7, 0.6],\n",
    "   'random_state':[42],\n",
    "    'num_class': [len(set(y_train))],  # Número de clases en el conjunto de datos\n",
    "}\n",
    "\n",
    "# Inicializar el modelo LGBM\n",
    "lgbm = LGBMClassifier()\n",
    "\n",
    "# Configurar GridSearchCV\n",
    "grid_search = GridSearchCV(\n",
    "    estimator=lgbm,\n",
    "    param_grid=param_grid,\n",
    "    cv=5,  # Validación cruzada con 5 particiones\n",
    "    scoring='f1_weighted',  # Métrica de evaluación\n",
    "    verbose=1\n",
    ")\n",
    "\n",
    "# Ajustar el modelo con los datos de entrenamiento\n",
    "grid_search.fit(X_train, y_train)\n",
    "\n",
    "# Imprimir los mejores parámetros y la mejor puntuación\n",
    "print(\"Mejores hiperparámetros encontrados:\", grid_search.best_params_)\n",
    "print(\"Mejor F1 Score obtenido en validación cruzada:\", grid_search.best_score_)\n",
    "\n",
    "# Obtener el mejor modelo ajustado\n",
    "best_model = grid_search.best_estimator_\n",
    "\n",
    "# Evaluar el mejor modelo en el conjunto de prueba\n",
    "y_pred = best_model.predict(X_test)\n",
    "\n",
    "# Calcular métricas\n",
    "accuracy = accuracy_score(y_test, y_pred)\n",
    "precision = precision_score(y_test, y_pred, average='weighted')\n",
    "recall = recall_score(y_test, y_pred, average='weighted')\n",
    "f1 = f1_score(y_test, y_pred, average='weighted')\n",
    "conf_matrix = confusion_matrix(y_test, y_pred)\n",
    "\n",
    "# Mostrar resultados\n",
    "print(f\"Accuracy: {accuracy:.4f}\")\n",
    "print(f\"Precision: {precision:.4f}\")\n",
    "print(f\"Recall: {recall:.4f}\")\n",
    "print(f\"F1-Score: {f1:.4f}\")\n",
    "print(\"Confusion Matrix:\")\n",
    "print(conf_matrix)\n"
   ]
  },
  {
   "cell_type": "markdown",
   "metadata": {
    "id": "77lsdU3nOAI9"
   },
   "source": [
    "**Validacion cruzada**"
   ]
  },
  {
   "cell_type": "code",
   "execution_count": null,
   "metadata": {
    "colab": {
     "base_uri": "https://localhost:8080/"
    },
    "executionInfo": {
     "elapsed": 438,
     "status": "ok",
     "timestamp": 1747490981730,
     "user": {
      "displayName": "Kathia Garcia",
      "userId": "03947002799544824998"
     },
     "user_tz": 180
    },
    "id": "eT8b3ItGOFtV",
    "outputId": "8d6fbcc6-0da3-450a-c939-b6ffe4accb45"
   },
   "outputs": [],
   "source": [
    "from sklearn.model_selection import cross_validate\n",
    "from lightgbm import LGBMClassifier\n",
    "\n",
    "# Inicializar el modelo LGBM\n",
    "lgbm_best = LGBMClassifier(\n",
    " objective='multiclass',\n",
    "    num_class=3,\n",
    "    boosting_type='gbdt',\n",
    "    n_estimators=100,\n",
    "    num_leaves=31,\n",
    "    learning_rate=0.1,\n",
    "    feature_fraction=0.8,\n",
    "    verbosity=-1,\n",
    "    random_state=42\n",
    ")\n",
    "\n",
    "# Configurar métricas para la validación cruzada\n",
    "scoring_metrics = ['accuracy', 'precision_weighted', 'recall_weighted', 'f1_weighted']\n",
    "\n",
    "# Realizar validación cruzada con múltiples métricas\n",
    "cv_results = cross_validate(lgbm_best, X_train, y_train, cv=5, scoring=scoring_metrics, return_train_score=False)\n",
    "\n",
    "# Calcular promedios y desviaciones estándar\n",
    "mean_accuracy = cv_results['test_accuracy'].mean()\n",
    "std_accuracy = cv_results['test_accuracy'].std()\n",
    "mean_precision = cv_results['test_precision_weighted'].mean()\n",
    "std_precision = cv_results['test_precision_weighted'].std()\n",
    "mean_recall = cv_results['test_recall_weighted'].mean()\n",
    "std_recall = cv_results['test_recall_weighted'].std()\n",
    "mean_f1 = cv_results['test_f1_weighted'].mean()\n",
    "std_f1 = cv_results['test_f1_weighted'].std()\n",
    "\n",
    "# Mostrar resultados\n",
    "print(\"Resultados de Validación Cruzada con los Mejores Hiperparámetros para LGBM:\")\n",
    "print(f\"Accuracy Promedio: {mean_accuracy:.4f} ± {std_accuracy:.4f}\")\n",
    "print(f\"Precision Promedio: {mean_precision:.4f} ± {std_precision:.4f}\")\n",
    "print(f\"Recall Promedio: {mean_recall:.4f} ± {std_recall:.4f}\")\n",
    "print(f\"F1 Score Promedio: {mean_f1:.4f} ± {std_f1:.4f}\")\n"
   ]
  },
  {
   "cell_type": "code",
   "execution_count": null,
   "metadata": {
    "colab": {
     "base_uri": "https://localhost:8080/",
     "height": 624
    },
    "executionInfo": {
     "elapsed": 771,
     "status": "ok",
     "timestamp": 1747519727897,
     "user": {
      "displayName": "Kathia Garcia",
      "userId": "03947002799544824998"
     },
     "user_tz": 180
    },
    "id": "xWGOZLTmBZ4u",
    "outputId": "5941d3ad-7bf7-4f74-88d2-a013c2ef3143"
   },
   "outputs": [],
   "source": [
    "import matplotlib.pyplot as plt\n",
    "import lightgbm as lgb\n",
    "\n",
    "# Parámetros para estilo de gráfico\n",
    "plt.figure(figsize=(10, 6))\n",
    "ax = lgb.plot_importance(\n",
    "    model,\n",
    "    max_num_features=20,           # Top 20 características\n",
    "    importance_type='gain',        # Importancia basada en ganancia\n",
    "    height=0.5,                    # Altura de cada barra\n",
    "    figsize=(10, 6),\n",
    "    title='Importancia de características (gain)',\n",
    "    xlabel='Ganancia total',\n",
    "    ylabel='Características',\n",
    "    grid=False\n",
    ")\n",
    "plt.tight_layout()\n",
    "plt.show()\n"
   ]
  }
 ],
 "metadata": {
  "colab": {
   "provenance": []
  },
  "kernelspec": {
   "display_name": "Python 3",
   "name": "python3"
  },
  "language_info": {
   "name": "python"
  }
 },
 "nbformat": 4,
 "nbformat_minor": 0
}
